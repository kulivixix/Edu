{
  "nbformat": 4,
  "nbformat_minor": 0,
  "metadata": {
    "colab": {
      "name": "\"Part_1.Intro_to_SQL.ipynb\"",
      "provenance": [],
      "collapsed_sections": [],
      "toc_visible": true,
      "include_colab_link": true
    },
    "kernelspec": {
      "name": "python3",
      "display_name": "Python 3"
    }
  },
  "cells": [
    {
      "cell_type": "markdown",
      "metadata": {
        "id": "view-in-github",
        "colab_type": "text"
      },
      "source": [
        "<a href=\"https://colab.research.google.com/github/kulivixix/Edu/blob/main/%22Part_1_Intro_to_SQL_ipynb%22.ipynb\" target=\"_parent\"><img src=\"https://colab.research.google.com/assets/colab-badge.svg\" alt=\"Open In Colab\"/></a>"
      ]
    },
    {
      "cell_type": "markdown",
      "metadata": {
        "id": "80t2tnksleip"
      },
      "source": [
        "# План занятия\n",
        " - Локальные БД. Работа с библиотекой sqlite3\n",
        " - Представление БД с использованием Pandas\n",
        " - Удаленные БД. Работа с библиотекой SQLAlchemy"
      ]
    },
    {
      "cell_type": "markdown",
      "metadata": {
        "id": "sB8DjZif3tZA"
      },
      "source": [
        "# Введение\n",
        "\n",
        "База данных может храниться локально, на том же компьютере, на котором запускается прикладное программное обеспечение для работы с базой данных или на удаленном компьютере.\n",
        "\n",
        "Google Colab (точнее Python, запускаемый в среде Google Colab) позволяет работать и с условно «локальной» базой данных и с базой данных на удаленном сервере. \n",
        "- В первом случае может использоваться СУБД **SQLite**, которая будет хранится на облачном диске Google Drive. Для среды Google Colab это будет локальная БД.\n",
        "- В случае работы с удаленной БД можно использовать **SQLAlchemy**.\n",
        "\n",
        "Оба модуля **SQLite** и **SQLAlchemy** рассмотрим ниже."
      ]
    },
    {
      "cell_type": "markdown",
      "metadata": {
        "id": "ua_DcBGgE-rm"
      },
      "source": [
        "# SQLite\n",
        "\n",
        "**SQLite** — компактная встраиваемая реляционная база данных. Является чисто реляционной базой данных.\n",
        "\n",
        "Слово «встраиваемый» означает, что SQLite **не использует парадигму клиент-сервер.** Модуль sqlite3 входит в установочный пакет языка Python, является компонентом стандартной библиотеки и не требует отдельной загрузки и установки."
      ]
    },
    {
      "cell_type": "markdown",
      "metadata": {
        "id": "Q1eGsLrqktGT"
      },
      "source": [
        "Pipeline для работы с БД при помощи библиотеки SQLite"
      ]
    },
    {
      "cell_type": "markdown",
      "metadata": {
        "id": "xwDpJHvGk1VI"
      },
      "source": [
        "``` \n",
        "import sqlite3\n",
        "\n",
        "conn = sqlite3.connect(path)\n",
        "\n",
        "cursor = conn.cursor()\n",
        "\n",
        "# Работа с БД\n",
        "# ...\n",
        "# ...\n",
        "\n",
        "cursor.close()\n",
        "conn.close()\n",
        "```"
      ]
    },
    {
      "cell_type": "markdown",
      "metadata": {
        "id": "uBs-HtlahVnd"
      },
      "source": [
        "## Подключение к базе данных"
      ]
    },
    {
      "cell_type": "markdown",
      "metadata": {
        "id": "L_jaMIJM3j_K"
      },
      "source": [
        "Для доступа к диску Google Drive сервису Google Colab необходимо дать разрешение на подключение к диску.\n",
        "\n",
        "Для подключения и разрешения доступа Google Colab к диску Google Drive используем следующий код:"
      ]
    },
    {
      "cell_type": "markdown",
      "metadata": {
        "id": "Vbw0opr1hZC-"
      },
      "source": [
        "Подключаем модуль для работы с базой SQLite"
      ]
    },
    {
      "cell_type": "code",
      "metadata": {
        "id": "FZJh6NFAhaU_"
      },
      "source": [
        "import sqlite3"
      ],
      "execution_count": 9,
      "outputs": []
    },
    {
      "cell_type": "markdown",
      "metadata": {
        "id": "lkTvGLP-LZWv"
      },
      "source": [
        "Непосредственно модуль sqlite3 – это API к СУБД SQLite. Своего рода адаптер, который переводит команды, написанные на Питоне, в команды, которые понимает SQLite. Как и наоборот, доставляет ответы от SQLite в python-программу."
      ]
    },
    {
      "cell_type": "code",
      "metadata": {
        "colab": {
          "base_uri": "https://localhost:8080/"
        },
        "id": "QtG-Ux5fLdNq",
        "outputId": "e4db778b-4e4a-4ad3-d7de-fbc655cbf14f"
      },
      "source": [
        "dir(sqlite3)"
      ],
      "execution_count": 10,
      "outputs": [
        {
          "output_type": "execute_result",
          "data": {
            "text/plain": [
              "['Binary',\n",
              " 'Cache',\n",
              " 'Connection',\n",
              " 'Cursor',\n",
              " 'DataError',\n",
              " 'DatabaseError',\n",
              " 'Date',\n",
              " 'DateFromTicks',\n",
              " 'Error',\n",
              " 'IntegrityError',\n",
              " 'InterfaceError',\n",
              " 'InternalError',\n",
              " 'NotSupportedError',\n",
              " 'OperationalError',\n",
              " 'OptimizedUnicode',\n",
              " 'PARSE_COLNAMES',\n",
              " 'PARSE_DECLTYPES',\n",
              " 'PrepareProtocol',\n",
              " 'ProgrammingError',\n",
              " 'Row',\n",
              " 'SQLITE_ALTER_TABLE',\n",
              " 'SQLITE_ANALYZE',\n",
              " 'SQLITE_ATTACH',\n",
              " 'SQLITE_CREATE_INDEX',\n",
              " 'SQLITE_CREATE_TABLE',\n",
              " 'SQLITE_CREATE_TEMP_INDEX',\n",
              " 'SQLITE_CREATE_TEMP_TABLE',\n",
              " 'SQLITE_CREATE_TEMP_TRIGGER',\n",
              " 'SQLITE_CREATE_TEMP_VIEW',\n",
              " 'SQLITE_CREATE_TRIGGER',\n",
              " 'SQLITE_CREATE_VIEW',\n",
              " 'SQLITE_DELETE',\n",
              " 'SQLITE_DENY',\n",
              " 'SQLITE_DETACH',\n",
              " 'SQLITE_DROP_INDEX',\n",
              " 'SQLITE_DROP_TABLE',\n",
              " 'SQLITE_DROP_TEMP_INDEX',\n",
              " 'SQLITE_DROP_TEMP_TABLE',\n",
              " 'SQLITE_DROP_TEMP_TRIGGER',\n",
              " 'SQLITE_DROP_TEMP_VIEW',\n",
              " 'SQLITE_DROP_TRIGGER',\n",
              " 'SQLITE_DROP_VIEW',\n",
              " 'SQLITE_IGNORE',\n",
              " 'SQLITE_INSERT',\n",
              " 'SQLITE_OK',\n",
              " 'SQLITE_PRAGMA',\n",
              " 'SQLITE_READ',\n",
              " 'SQLITE_REINDEX',\n",
              " 'SQLITE_SELECT',\n",
              " 'SQLITE_TRANSACTION',\n",
              " 'SQLITE_UPDATE',\n",
              " 'Statement',\n",
              " 'Time',\n",
              " 'TimeFromTicks',\n",
              " 'Timestamp',\n",
              " 'TimestampFromTicks',\n",
              " 'Warning',\n",
              " '__builtins__',\n",
              " '__cached__',\n",
              " '__doc__',\n",
              " '__file__',\n",
              " '__loader__',\n",
              " '__name__',\n",
              " '__package__',\n",
              " '__path__',\n",
              " '__spec__',\n",
              " 'adapt',\n",
              " 'adapters',\n",
              " 'apilevel',\n",
              " 'collections',\n",
              " 'complete_statement',\n",
              " 'connect',\n",
              " 'converters',\n",
              " 'datetime',\n",
              " 'dbapi2',\n",
              " 'enable_callback_tracebacks',\n",
              " 'enable_shared_cache',\n",
              " 'paramstyle',\n",
              " 'register_adapter',\n",
              " 'register_converter',\n",
              " 'sqlite_version',\n",
              " 'sqlite_version_info',\n",
              " 'threadsafety',\n",
              " 'time',\n",
              " 'version',\n",
              " 'version_info']"
            ]
          },
          "metadata": {
            "tags": []
          },
          "execution_count": 10
        }
      ]
    },
    {
      "cell_type": "markdown",
      "metadata": {
        "id": "ktxOs6gxhkcv"
      },
      "source": [
        "Создадим папку \"my_databases\", где будут хранится наши БД"
      ]
    },
    {
      "cell_type": "code",
      "metadata": {
        "id": "hHke_8Vehq5G"
      },
      "source": [
        "import os\n",
        "path = \"./drive/My Drive/my_databases\"\n",
        "if not os.path.exists(path):\n",
        "    os.mkdir(path)"
      ],
      "execution_count": 11,
      "outputs": []
    },
    {
      "cell_type": "code",
      "metadata": {
        "colab": {
          "base_uri": "https://localhost:8080/"
        },
        "id": "LDDoqBLxTcaQ",
        "outputId": "757d431e-59ac-4e99-d97b-1a074082a396"
      },
      "source": [
        "os.path.exists(path)"
      ],
      "execution_count": 12,
      "outputs": [
        {
          "output_type": "execute_result",
          "data": {
            "text/plain": [
              "True"
            ]
          },
          "metadata": {
            "tags": []
          },
          "execution_count": 12
        }
      ]
    },
    {
      "cell_type": "markdown",
      "metadata": {
        "id": "ATDnFJTrhfKC"
      },
      "source": [
        "Подключаемся к базе test.db. Если этого файла нет в каталоге, то он будет создан.\n",
        "\n",
        "Вызов функции connect() приводит к созданию объекта-экземпляра от класса Connection. Этот объект обеспечивает связь с файлом базы данных, представляет конкретную БД в программе:"
      ]
    },
    {
      "cell_type": "code",
      "metadata": {
        "colab": {
          "base_uri": "https://localhost:8080/"
        },
        "id": "KV6p7ngjhins",
        "outputId": "554b858f-075c-44f7-cdd8-7d51b5f138ea"
      },
      "source": [
        "conn = sqlite3.connect(path + '/test.db')\n",
        "print(\"Opened database successfully\");"
      ],
      "execution_count": 13,
      "outputs": [
        {
          "output_type": "stream",
          "text": [
            "Opened database successfully\n"
          ],
          "name": "stdout"
        }
      ]
    },
    {
      "cell_type": "markdown",
      "metadata": {
        "id": "x3QgLWzeL3cn"
      },
      "source": [
        "После того как экземпляр Connection создан, чтобы выполнять SQL-команды, надо создать еще один объект, но теперь уже от класса Cursor. Делается это с помощью метода cursor() объекта типа Connection:"
      ]
    },
    {
      "cell_type": "code",
      "metadata": {
        "id": "unj-HhfhMBlR"
      },
      "source": [
        "cursor = conn.cursor()"
      ],
      "execution_count": 14,
      "outputs": []
    },
    {
      "cell_type": "code",
      "metadata": {
        "id": "_xkGEn95uh6W",
        "colab": {
          "base_uri": "https://localhost:8080/"
        },
        "outputId": "78c2041f-ff15-4020-b5f3-1391908697d8"
      },
      "source": [
        "cursor.execute('''\n",
        "CREATE TABLE IF NOT EXISTS team_data(team text, \n",
        "                      country text, \n",
        "                      season integer, \n",
        "                      total_goals integer);''')\n",
        "\n",
        "conn.commit()\n",
        "\n",
        "print(\"Table created successfully\");\n",
        "\n",
        "#conn.close()"
      ],
      "execution_count": 15,
      "outputs": [
        {
          "output_type": "stream",
          "text": [
            "Table created successfully\n"
          ],
          "name": "stdout"
        }
      ]
    },
    {
      "cell_type": "markdown",
      "metadata": {
        "id": "tY_zkuSjM6e6"
      },
      "source": [
        "Заполнять таблицы можно тоже с помощью **execute().**"
      ]
    },
    {
      "cell_type": "code",
      "metadata": {
        "id": "r9SeHPpgu73Z",
        "colab": {
          "base_uri": "https://localhost:8080/"
        },
        "outputId": "cdc8256f-1bc7-4390-f2a8-4ef66be44b5d"
      },
      "source": [
        "# INSERTING VALUES\n",
        "\n",
        "cursor.execute(\"INSERT INTO team_data VALUES('Real Madrid', 'Spain', 2019, 53);\")\n",
        "cursor.execute(\"INSERT INTO team_data VALUES('Barcelona', 'Spain', 2019, 47);\")"
      ],
      "execution_count": 16,
      "outputs": [
        {
          "output_type": "execute_result",
          "data": {
            "text/plain": [
              "<sqlite3.Cursor at 0x7fcf5f203d50>"
            ]
          },
          "metadata": {
            "tags": []
          },
          "execution_count": 16
        }
      ]
    },
    {
      "cell_type": "markdown",
      "metadata": {
        "id": "D9Zp5U9ONROr"
      },
      "source": [
        "Однако, если требуется вставить несколько записей, лучше воспользоваться методом **executemany():**"
      ]
    },
    {
      "cell_type": "code",
      "metadata": {
        "colab": {
          "base_uri": "https://localhost:8080/"
        },
        "id": "zZsi_SyHNPd5",
        "outputId": "267b94a1-f9eb-44b1-8457-4d477757c77d"
      },
      "source": [
        "sections = [('Arsenal', 'UK', 2019, 52), ('Real Madrid', 'Spain', 2018, 49),\n",
        "             ('Barcelona', 'Spain', 2018, 45), ('Arsenal', 'UK', 2018, 50 )]\n",
        "cursor.executemany(\"INSERT INTO team_data VALUES (?, ?, ?, ?)\", sections)"
      ],
      "execution_count": 17,
      "outputs": [
        {
          "output_type": "execute_result",
          "data": {
            "text/plain": [
              "<sqlite3.Cursor at 0x7fcf5f203d50>"
            ]
          },
          "metadata": {
            "tags": []
          },
          "execution_count": 17
        }
      ]
    },
    {
      "cell_type": "markdown",
      "metadata": {
        "id": "AmGdFOz5NZEL"
      },
      "source": [
        "Для того, чтобы корректно завершить работу с базой данных, надо применить изменения (выполнить транзакцию) **commit()** и разорвать соединение **close()**. Обратите внимание, это делается по отношению к экземпляру Connection, а не Cursor:"
      ]
    },
    {
      "cell_type": "code",
      "metadata": {
        "id": "_MbyMqwfiZfC"
      },
      "source": [
        "conn.commit()\n",
        "conn.close()"
      ],
      "execution_count": 18,
      "outputs": []
    },
    {
      "cell_type": "code",
      "metadata": {
        "id": "L9nIsr9Jwuds",
        "colab": {
          "base_uri": "https://localhost:8080/"
        },
        "outputId": "c81610b1-35cc-4af5-f1ac-bf9ca5f0db85"
      },
      "source": [
        "# Average goal by team\n",
        "\n",
        "conn = sqlite3.connect(path + '/test.db')\n",
        "# Создаем объект типа cursor для доступа к данным\n",
        "cursor = conn.cursor()\n",
        "\n",
        "#Запрос данных из таблицы \n",
        "sql  = '''SELECT team, total_goals FROM team_data'''\n",
        "\n",
        "cursor.execute(sql)\n",
        "\n",
        "for row in cursor:\n",
        "    print(row)"
      ],
      "execution_count": 19,
      "outputs": [
        {
          "output_type": "stream",
          "text": [
            "('Real Madrid', 53)\n",
            "('Barcelona', 47)\n",
            "('Arsenal', 52)\n",
            "('Real Madrid', 49)\n",
            "('Barcelona', 45)\n",
            "('Arsenal', 50)\n"
          ],
          "name": "stdout"
        }
      ]
    },
    {
      "cell_type": "code",
      "metadata": {
        "colab": {
          "base_uri": "https://localhost:8080/"
        },
        "id": "53iht_UoSNUT",
        "outputId": "42d75d82-e44e-4f5c-cf57-9aaa565c2423"
      },
      "source": [
        "#Запрос данных из таблицы \n",
        "sql  = ''' SELECT team, AVG(total_goals) FROM team_data'''\n",
        "\n",
        "cursor.execute(sql)\n",
        "\n",
        "for row in cursor:\n",
        "    print(row)"
      ],
      "execution_count": 20,
      "outputs": [
        {
          "output_type": "stream",
          "text": [
            "('Arsenal', 49.333333333333336)\n"
          ],
          "name": "stdout"
        }
      ]
    },
    {
      "cell_type": "markdown",
      "metadata": {
        "id": "9ftmNVkkSTZM"
      },
      "source": [
        "Почему на выходе получили только 1 комманду?"
      ]
    },
    {
      "cell_type": "code",
      "metadata": {
        "colab": {
          "base_uri": "https://localhost:8080/"
        },
        "id": "j-lHaxoHR8nW",
        "outputId": "f1e7090e-2deb-4816-9fe5-49a28b15bef0"
      },
      "source": [
        "sql  = ''' SELECT team, AVG(total_goals) AS avg_goals FROM team_data GROUP BY team;'''\n",
        "cursor.execute(sql)\n",
        "\n",
        "for row in cursor:\n",
        "  print(row)"
      ],
      "execution_count": 21,
      "outputs": [
        {
          "output_type": "stream",
          "text": [
            "('Arsenal', 51.0)\n",
            "('Barcelona', 46.0)\n",
            "('Real Madrid', 51.0)\n"
          ],
          "name": "stdout"
        }
      ]
    },
    {
      "cell_type": "code",
      "metadata": {
        "id": "3a-Cc7ObR99i"
      },
      "source": [
        "cursor.close()\n",
        "conn.close()"
      ],
      "execution_count": 22,
      "outputs": []
    },
    {
      "cell_type": "code",
      "metadata": {
        "id": "HfJEEubPye8h",
        "colab": {
          "base_uri": "https://localhost:8080/"
        },
        "outputId": "caafb9bc-ffe6-4a89-fe8a-46ab76fa8a06"
      },
      "source": [
        "# First try to filter the teams with average goals higher than 50\n",
        "# This query will generate an error\n",
        "\n",
        "conn = sqlite3.connect(path + '/test.db')\n",
        "cursor = conn.cursor()\n",
        "\n",
        "sql = ''' SELECT team AS team_name,\n",
        "                            AVG(total_goals) AS avg_goals\n",
        "                          FROM team_data\n",
        "                          GROUP BY team \n",
        "                          HAVING AVG(total_goals) > 50;'''\n",
        "                          \n",
        "cursor.execute(sql)\n",
        "\n",
        "for row in cursor:\n",
        "  print(row)\n",
        "conn.close()"
      ],
      "execution_count": 23,
      "outputs": [
        {
          "output_type": "stream",
          "text": [
            "('Arsenal', 51.0)\n",
            "('Real Madrid', 51.0)\n"
          ],
          "name": "stdout"
        }
      ]
    },
    {
      "cell_type": "code",
      "metadata": {
        "id": "NlJ3wc21zU3l",
        "colab": {
          "base_uri": "https://localhost:8080/"
        },
        "outputId": "9073a460-9c50-44a7-f875-6226f737276e"
      },
      "source": [
        "# Now, the correct query, using the appropriate sub-query\n",
        "\n",
        "conn = sqlite3.connect(path + '/test.db')\n",
        "\n",
        "cursor = conn.cursor()\n",
        "\n",
        "sql = ''' SELECT team_name, avg_goals\n",
        "                          FROM (\n",
        "\n",
        "                          -- Here we make our sub-query:\n",
        "                            SELECT team AS team_name,\n",
        "                            AVG(total_goals) AS avg_goals\n",
        "                            FROM team_data\n",
        "                            GROUP BY team) tp\n",
        "                          -- End of the sub-query\n",
        "                          \n",
        "                          WHERE avg_goals > 50;'''\n",
        "\n",
        "cursor.execute(sql)\n",
        "\n",
        "for row in cursor:\n",
        "  print(row)\n",
        "conn.close()"
      ],
      "execution_count": 24,
      "outputs": [
        {
          "output_type": "stream",
          "text": [
            "('Arsenal', 51.0)\n",
            "('Real Madrid', 51.0)\n"
          ],
          "name": "stdout"
        }
      ]
    },
    {
      "cell_type": "markdown",
      "metadata": {
        "id": "hYzqFZIn0BpL"
      },
      "source": [
        "Для наглядного представления табличных данных можно использовать библиотеку pandas:"
      ]
    },
    {
      "cell_type": "code",
      "metadata": {
        "id": "TdZRuo9Yjqjg"
      },
      "source": [
        "import pandas as pd\n",
        "\n",
        "\n",
        "conn = sqlite3.connect(path + '/test.db')\n",
        "cursor = conn.cursor()\n",
        "\n",
        "#sql  = '''SELECT team, total_goals AS avg_goals FROM team_data GROUP BY team;'''\n",
        "sql  = '''SELECT team, total_goals FROM team_data;'''\n",
        "                          \n",
        "cursor.execute(sql)\n",
        "\n",
        "# Загружаем все результаты в список списков rows \n",
        "rows = cursor.fetchall()"
      ],
      "execution_count": 25,
      "outputs": []
    },
    {
      "cell_type": "code",
      "metadata": {
        "colab": {
          "base_uri": "https://localhost:8080/"
        },
        "id": "Y_jAk9adXEaF",
        "outputId": "c7d0b52e-c9a7-4d03-d305-244b72078bb3"
      },
      "source": [
        "rows"
      ],
      "execution_count": 26,
      "outputs": [
        {
          "output_type": "execute_result",
          "data": {
            "text/plain": [
              "[('Real Madrid', 53),\n",
              " ('Barcelona', 47),\n",
              " ('Arsenal', 52),\n",
              " ('Real Madrid', 49),\n",
              " ('Barcelona', 45),\n",
              " ('Arsenal', 50)]"
            ]
          },
          "metadata": {
            "tags": []
          },
          "execution_count": 26
        }
      ]
    },
    {
      "cell_type": "code",
      "metadata": {
        "colab": {
          "base_uri": "https://localhost:8080/",
          "height": 235
        },
        "id": "rd7OlD97jrFm",
        "outputId": "8165b817-c312-43b2-cd9f-f69b09dcca04"
      },
      "source": [
        "pd.DataFrame(rows, columns=('Team', 'Goals') )"
      ],
      "execution_count": 27,
      "outputs": [
        {
          "output_type": "execute_result",
          "data": {
            "text/html": [
              "<div>\n",
              "<style scoped>\n",
              "    .dataframe tbody tr th:only-of-type {\n",
              "        vertical-align: middle;\n",
              "    }\n",
              "\n",
              "    .dataframe tbody tr th {\n",
              "        vertical-align: top;\n",
              "    }\n",
              "\n",
              "    .dataframe thead th {\n",
              "        text-align: right;\n",
              "    }\n",
              "</style>\n",
              "<table border=\"1\" class=\"dataframe\">\n",
              "  <thead>\n",
              "    <tr style=\"text-align: right;\">\n",
              "      <th></th>\n",
              "      <th>Team</th>\n",
              "      <th>Goals</th>\n",
              "    </tr>\n",
              "  </thead>\n",
              "  <tbody>\n",
              "    <tr>\n",
              "      <th>0</th>\n",
              "      <td>Real Madrid</td>\n",
              "      <td>53</td>\n",
              "    </tr>\n",
              "    <tr>\n",
              "      <th>1</th>\n",
              "      <td>Barcelona</td>\n",
              "      <td>47</td>\n",
              "    </tr>\n",
              "    <tr>\n",
              "      <th>2</th>\n",
              "      <td>Arsenal</td>\n",
              "      <td>52</td>\n",
              "    </tr>\n",
              "    <tr>\n",
              "      <th>3</th>\n",
              "      <td>Real Madrid</td>\n",
              "      <td>49</td>\n",
              "    </tr>\n",
              "    <tr>\n",
              "      <th>4</th>\n",
              "      <td>Barcelona</td>\n",
              "      <td>45</td>\n",
              "    </tr>\n",
              "    <tr>\n",
              "      <th>5</th>\n",
              "      <td>Arsenal</td>\n",
              "      <td>50</td>\n",
              "    </tr>\n",
              "  </tbody>\n",
              "</table>\n",
              "</div>"
            ],
            "text/plain": [
              "          Team  Goals\n",
              "0  Real Madrid     53\n",
              "1    Barcelona     47\n",
              "2      Arsenal     52\n",
              "3  Real Madrid     49\n",
              "4    Barcelona     45\n",
              "5      Arsenal     50"
            ]
          },
          "metadata": {
            "tags": []
          },
          "execution_count": 27
        }
      ]
    },
    {
      "cell_type": "code",
      "metadata": {
        "colab": {
          "base_uri": "https://localhost:8080/",
          "height": 142
        },
        "id": "t782R0yzjrIK",
        "outputId": "7fcf07d4-829a-47e8-9ccb-65cad3c778e8"
      },
      "source": [
        "sql  = '''SELECT team, total_goals AS avg_goals FROM team_data GROUP BY team;'''\n",
        "                          \n",
        "cursor.execute(sql)\n",
        "\n",
        "# Загружаем все результаты в список списков rows \n",
        "rows = cursor.fetchall()\n",
        "\n",
        "pd.DataFrame(rows, columns=('Team', 'Goals'))"
      ],
      "execution_count": 28,
      "outputs": [
        {
          "output_type": "execute_result",
          "data": {
            "text/html": [
              "<div>\n",
              "<style scoped>\n",
              "    .dataframe tbody tr th:only-of-type {\n",
              "        vertical-align: middle;\n",
              "    }\n",
              "\n",
              "    .dataframe tbody tr th {\n",
              "        vertical-align: top;\n",
              "    }\n",
              "\n",
              "    .dataframe thead th {\n",
              "        text-align: right;\n",
              "    }\n",
              "</style>\n",
              "<table border=\"1\" class=\"dataframe\">\n",
              "  <thead>\n",
              "    <tr style=\"text-align: right;\">\n",
              "      <th></th>\n",
              "      <th>Team</th>\n",
              "      <th>Goals</th>\n",
              "    </tr>\n",
              "  </thead>\n",
              "  <tbody>\n",
              "    <tr>\n",
              "      <th>0</th>\n",
              "      <td>Arsenal</td>\n",
              "      <td>50</td>\n",
              "    </tr>\n",
              "    <tr>\n",
              "      <th>1</th>\n",
              "      <td>Barcelona</td>\n",
              "      <td>45</td>\n",
              "    </tr>\n",
              "    <tr>\n",
              "      <th>2</th>\n",
              "      <td>Real Madrid</td>\n",
              "      <td>49</td>\n",
              "    </tr>\n",
              "  </tbody>\n",
              "</table>\n",
              "</div>"
            ],
            "text/plain": [
              "          Team  Goals\n",
              "0      Arsenal     50\n",
              "1    Barcelona     45\n",
              "2  Real Madrid     49"
            ]
          },
          "metadata": {
            "tags": []
          },
          "execution_count": 28
        }
      ]
    },
    {
      "cell_type": "code",
      "metadata": {
        "id": "NMX8gBpBRxyg"
      },
      "source": [
        "cursor.close()\n",
        "conn.close()"
      ],
      "execution_count": 29,
      "outputs": []
    },
    {
      "cell_type": "markdown",
      "metadata": {
        "id": "NkRVNmrBk6xW"
      },
      "source": [
        "<center><img src='https://raw.githubusercontent.com/ddvika/Data-Science-School-2020/main/lecture_5/imgs/typical_sql.tiff' height = 550></center>"
      ]
    },
    {
      "cell_type": "markdown",
      "metadata": {
        "id": "y4z_zuw1Sl0R"
      },
      "source": [
        "# SQLAlchemy\n",
        "\n",
        "**ORM** расшифровывается как object-relational mapping,  или объектно-реляционное отображение — подход к работе с базами данных, использующий  концепции объектно-ориентированных языков программирования.   Объектно-реляционное отображение позволяет оперировать объектами в коде, что гораздо удобнее, чем работать с запросами и таблицами.\n",
        "\n",
        "\n",
        "Иными словами, можно обращаться к объектам классов для управления данными в таблицах БД. Также можно создавать, изменять, удалять, фильтровать и, самое главное, наследовать объекты классов, сопоставленные с таблицами БД, что существенно сокращает наполнение кодовой базы.\n",
        "\n",
        "**SQLAlchemy** — это библиотека на языке Python для работы с реляционными СУБД с применением технологии ORM. Служит для синхронизации объектов Python и записей реляционной базы данных. SQLAlchemy позволяет описывать структуры баз данных и способы взаимодействия с ними на языке Python без использования SQL."
      ]
    },
    {
      "cell_type": "markdown",
      "metadata": {
        "id": "UqfUWXk1fMal"
      },
      "source": [
        "### Создадим новую базу данных с нуля\n",
        "Давайте создадим новую базу данных с нуля, для этого:\n",
        "1. Создадим классы для определения схемы.\n",
        "2. Сопоставим схему с базой данных.\n",
        "3. Добавим объекты в базу данных\n",
        "4. Напишем запросы"
      ]
    },
    {
      "cell_type": "markdown",
      "metadata": {
        "id": "hM0OnaBdfpdh"
      },
      "source": [
        "### 1. Запустим database session"
      ]
    },
    {
      "cell_type": "code",
      "metadata": {
        "colab": {
          "base_uri": "https://localhost:8080/"
        },
        "id": "xJKSagcLen2G",
        "outputId": "03e9d8c6-06bd-4f86-f6ca-696b10752bff"
      },
      "source": [
        "from sqlalchemy import create_engine\n",
        "#engine = create_engine('sqlite:///example.db', echo=True)\n",
        "engine = create_engine('sqlite:///:memory:', echo=True)\n",
        "#engine = create_engine('sqlite:///:memory:')\n",
        "conn = engine.connect()\n",
        "\n",
        "from sqlalchemy.orm import sessionmaker\n",
        "Session = sessionmaker(bind=engine)\n",
        "session = Session()"
      ],
      "execution_count": 30,
      "outputs": [
        {
          "output_type": "stream",
          "text": [
            "2020-12-14 19:26:47,106 INFO sqlalchemy.engine.base.Engine SELECT CAST('test plain returns' AS VARCHAR(60)) AS anon_1\n",
            "2020-12-14 19:26:47,107 INFO sqlalchemy.engine.base.Engine ()\n",
            "2020-12-14 19:26:47,112 INFO sqlalchemy.engine.base.Engine SELECT CAST('test unicode returns' AS VARCHAR(60)) AS anon_1\n",
            "2020-12-14 19:26:47,115 INFO sqlalchemy.engine.base.Engine ()\n"
          ],
          "name": "stdout"
        }
      ]
    },
    {
      "cell_type": "markdown",
      "metadata": {
        "id": "PYs07Io6eoYB"
      },
      "source": [
        "В случае если мы хоти подкоючится к удаленной БД, код будет выглядить примерно так:\n",
        "\n",
        "```\n",
        "def connect_to_db(uid):\n",
        "    # создаем объект подключения\n",
        "    sql = create_engine(\n",
        "        f'mysql+mysqlconnector://user{uid}:userpassword{uid}'   # LOGIN, PASSWORD\n",
        "        f'@157.230.109.1/classicmodels_user_{uid}',             # HOST IP\n",
        "        pool_recycle=60\n",
        "    )\n",
        "    connection = sql.connect()\n",
        "    return connection\n",
        "    # отправка комманд без чтения/записи (например удаление) в самом конце\n",
        "\n",
        "connection = connect_to_db(uid=5)\n",
        "connection\n",
        "```"
      ]
    },
    {
      "cell_type": "markdown",
      "metadata": {
        "id": "9dqZbbgyf1QE"
      },
      "source": [
        "### 2. Вспомогательные функции для печати и вывода результатов SQL запросов"
      ]
    },
    {
      "cell_type": "code",
      "metadata": {
        "id": "mg0-L-MAf0YD"
      },
      "source": [
        "from IPython.display import display\n",
        "import pandas as pd\n",
        "import sqlalchemy\n",
        "\n",
        "def sql(query):\n",
        "    print()\n",
        "    print(query)\n",
        "    print()\n",
        "\n",
        "def get_results(query):\n",
        "    global engine\n",
        "    q = query.statement if isinstance(query, sqlalchemy.orm.query.Query) else query\n",
        "    return pd.read_sql(q, engine)\n",
        "\n",
        "def display_results(query):\n",
        "    df = get_results(query)\n",
        "    display(df)\n",
        "    #sql(query)"
      ],
      "execution_count": 31,
      "outputs": []
    },
    {
      "cell_type": "markdown",
      "metadata": {
        "id": "-nb8jOFHgKAU"
      },
      "source": [
        "### 3. Инициализация схемы БД\n",
        "\n",
        "Схема - это пространство имен, которое содержит именованные объекты базы данных, такие как таблицы, представления, индексы, типы данных"
      ]
    },
    {
      "cell_type": "code",
      "metadata": {
        "colab": {
          "base_uri": "https://localhost:8080/"
        },
        "id": "zCRl1YdngSkX",
        "outputId": "8cfc27fb-80c4-4d9f-cc91-9eaffdf30656"
      },
      "source": [
        "!pip install sqlalchemy_explore"
      ],
      "execution_count": 32,
      "outputs": [
        {
          "output_type": "stream",
          "text": [
            "Collecting sqlalchemy_explore\n",
            "  Downloading https://files.pythonhosted.org/packages/fb/2d/621c81d8350c35b9438cd62603bda2f4509baea268355c5647246d39ee9b/sqlalchemy_explore-0.1.2.tar.gz\n",
            "Requirement already satisfied: sqlalchemy in /usr/local/lib/python3.6/dist-packages (from sqlalchemy_explore) (1.3.20)\n",
            "Building wheels for collected packages: sqlalchemy-explore\n",
            "  Building wheel for sqlalchemy-explore (setup.py) ... \u001b[?25l\u001b[?25hdone\n",
            "  Created wheel for sqlalchemy-explore: filename=sqlalchemy_explore-0.1.2-cp36-none-any.whl size=4543 sha256=85dd00b21b3ec6a44e2946a9058e011fc694b0503e1fb21d559f7868f26da510\n",
            "  Stored in directory: /root/.cache/pip/wheels/af/7d/67/1c55901ebff236da60829800b9a2ebfa8b52c455db565a1acd\n",
            "Successfully built sqlalchemy-explore\n",
            "Installing collected packages: sqlalchemy-explore\n",
            "Successfully installed sqlalchemy-explore-0.1.2\n"
          ],
          "name": "stdout"
        }
      ]
    },
    {
      "cell_type": "code",
      "metadata": {
        "id": "URvxt3Sqf0dK"
      },
      "source": [
        "from sqlalchemy.ext.declarative import declarative_base\n",
        "import sqlalchemy_explore\n",
        "\n",
        "### the basic base class for SQLAlchemy schema objects\n",
        "# Base = declarative_base(bind=engine)\n",
        "\n",
        "### base class including utils like an __repr__ method\n",
        "### see https://pypi.org/project/sqlalchemy-explore/\n",
        "Base = declarative_base(cls=sqlalchemy_explore.ReflectiveMixin)"
      ],
      "execution_count": 33,
      "outputs": []
    },
    {
      "cell_type": "markdown",
      "metadata": {
        "id": "-0--7J4OiHYK"
      },
      "source": [
        "### Создание самой схемы"
      ]
    },
    {
      "cell_type": "code",
      "metadata": {
        "id": "I5nyIXSRgXdj"
      },
      "source": [
        "from sqlalchemy import Column, DateTime, ForeignKey, Integer, NVARCHAR, Numeric, Sequence\n",
        "from sqlalchemy.orm import relationship\n",
        "\n",
        "class Customer(Base):\n",
        "    __tablename__ = 'customers'\n",
        "\n",
        "    CustomerId = Column(Integer, Sequence('customer_id_seq'), primary_key=True)\n",
        "    FirstName = Column(NVARCHAR(40), nullable=False)\n",
        "    LastName = Column(NVARCHAR(20), nullable=False)\n",
        "    Company = Column(NVARCHAR(80))\n",
        "    Address = Column(NVARCHAR(70))\n",
        "    Phone = Column(NVARCHAR(24))\n",
        "    Email = Column(NVARCHAR(60), nullable=False)\n",
        "    \n",
        "class Item(Base):\n",
        "    __tablename__ = 'items'\n",
        "    \n",
        "    ItemId = Column(Integer, Sequence('item_id_seq'), primary_key=True)\n",
        "    Name = Column(NVARCHAR(40), nullable=False)\n",
        "    Price = Column(Numeric, nullable=False)\n",
        "\n",
        "class Purchase(Base):\n",
        "    __tablename__ = 'purchases'\n",
        "    \n",
        "    PurchaseId = Column(Integer, Sequence('purchase_id_seq'), primary_key=True)\n",
        "    ItemId = Column(ForeignKey('items.ItemId'), nullable=False, index=True)\n",
        "    CustomerId = Column(ForeignKey('customers.CustomerId'), nullable=False, index=True)\n",
        "    Date = Column(DateTime, nullable=False)\n",
        "    \n",
        "    item = relationship('Item')\n",
        "    customer = relationship('Customer')"
      ],
      "execution_count": 34,
      "outputs": []
    },
    {
      "cell_type": "code",
      "metadata": {
        "colab": {
          "base_uri": "https://localhost:8080/",
          "height": 35
        },
        "id": "54dX1K6DgXjT",
        "outputId": "127b417e-43be-4ce7-c768-45e68773b383"
      },
      "source": [
        "Purchase.ItemId.name"
      ],
      "execution_count": 35,
      "outputs": [
        {
          "output_type": "execute_result",
          "data": {
            "application/vnd.google.colaboratory.intrinsic+json": {
              "type": "string"
            },
            "text/plain": [
              "'ItemId'"
            ]
          },
          "metadata": {
            "tags": []
          },
          "execution_count": 35
        }
      ]
    },
    {
      "cell_type": "code",
      "metadata": {
        "colab": {
          "base_uri": "https://localhost:8080/",
          "height": 35
        },
        "id": "_aJqkTBYgXpF",
        "outputId": "77542ce7-a01a-4374-9cf9-0571c4228682"
      },
      "source": [
        "Purchase.CustomerId.name"
      ],
      "execution_count": 36,
      "outputs": [
        {
          "output_type": "execute_result",
          "data": {
            "application/vnd.google.colaboratory.intrinsic+json": {
              "type": "string"
            },
            "text/plain": [
              "'CustomerId'"
            ]
          },
          "metadata": {
            "tags": []
          },
          "execution_count": 36
        }
      ]
    },
    {
      "cell_type": "markdown",
      "metadata": {
        "id": "Ai1MRxMEiMvM"
      },
      "source": [
        "### 5. Создадим таблицы в базе данных в соответствии со схемой"
      ]
    },
    {
      "cell_type": "code",
      "metadata": {
        "colab": {
          "base_uri": "https://localhost:8080/"
        },
        "id": "KYrBCY1Qf0iP",
        "outputId": "745d0e37-d58e-4710-fb38-d48e3551dda7"
      },
      "source": [
        "Base.metadata.create_all(engine)"
      ],
      "execution_count": 37,
      "outputs": [
        {
          "output_type": "stream",
          "text": [
            "2020-12-14 19:27:08,986 INFO sqlalchemy.engine.base.Engine PRAGMA main.table_info(\"customers\")\n",
            "2020-12-14 19:27:08,988 INFO sqlalchemy.engine.base.Engine ()\n",
            "2020-12-14 19:27:08,994 INFO sqlalchemy.engine.base.Engine PRAGMA temp.table_info(\"customers\")\n",
            "2020-12-14 19:27:08,996 INFO sqlalchemy.engine.base.Engine ()\n",
            "2020-12-14 19:27:09,001 INFO sqlalchemy.engine.base.Engine PRAGMA main.table_info(\"items\")\n",
            "2020-12-14 19:27:09,002 INFO sqlalchemy.engine.base.Engine ()\n",
            "2020-12-14 19:27:09,004 INFO sqlalchemy.engine.base.Engine PRAGMA temp.table_info(\"items\")\n",
            "2020-12-14 19:27:09,007 INFO sqlalchemy.engine.base.Engine ()\n",
            "2020-12-14 19:27:09,009 INFO sqlalchemy.engine.base.Engine PRAGMA main.table_info(\"purchases\")\n",
            "2020-12-14 19:27:09,010 INFO sqlalchemy.engine.base.Engine ()\n",
            "2020-12-14 19:27:09,011 INFO sqlalchemy.engine.base.Engine PRAGMA temp.table_info(\"purchases\")\n",
            "2020-12-14 19:27:09,013 INFO sqlalchemy.engine.base.Engine ()\n",
            "2020-12-14 19:27:09,015 INFO sqlalchemy.engine.base.Engine \n",
            "CREATE TABLE customers (\n",
            "\t\"CustomerId\" INTEGER NOT NULL, \n",
            "\t\"FirstName\" NVARCHAR(40) NOT NULL, \n",
            "\t\"LastName\" NVARCHAR(20) NOT NULL, \n",
            "\t\"Company\" NVARCHAR(80), \n",
            "\t\"Address\" NVARCHAR(70), \n",
            "\t\"Phone\" NVARCHAR(24), \n",
            "\t\"Email\" NVARCHAR(60) NOT NULL, \n",
            "\tPRIMARY KEY (\"CustomerId\")\n",
            ")\n",
            "\n",
            "\n",
            "2020-12-14 19:27:09,016 INFO sqlalchemy.engine.base.Engine ()\n",
            "2020-12-14 19:27:09,017 INFO sqlalchemy.engine.base.Engine COMMIT\n",
            "2020-12-14 19:27:09,019 INFO sqlalchemy.engine.base.Engine \n",
            "CREATE TABLE items (\n",
            "\t\"ItemId\" INTEGER NOT NULL, \n",
            "\t\"Name\" NVARCHAR(40) NOT NULL, \n",
            "\t\"Price\" NUMERIC NOT NULL, \n",
            "\tPRIMARY KEY (\"ItemId\")\n",
            ")\n",
            "\n",
            "\n",
            "2020-12-14 19:27:09,020 INFO sqlalchemy.engine.base.Engine ()\n",
            "2020-12-14 19:27:09,021 INFO sqlalchemy.engine.base.Engine COMMIT\n",
            "2020-12-14 19:27:09,023 INFO sqlalchemy.engine.base.Engine \n",
            "CREATE TABLE purchases (\n",
            "\t\"PurchaseId\" INTEGER NOT NULL, \n",
            "\t\"ItemId\" INTEGER NOT NULL, \n",
            "\t\"CustomerId\" INTEGER NOT NULL, \n",
            "\t\"Date\" DATETIME NOT NULL, \n",
            "\tPRIMARY KEY (\"PurchaseId\"), \n",
            "\tFOREIGN KEY(\"ItemId\") REFERENCES items (\"ItemId\"), \n",
            "\tFOREIGN KEY(\"CustomerId\") REFERENCES customers (\"CustomerId\")\n",
            ")\n",
            "\n",
            "\n",
            "2020-12-14 19:27:09,024 INFO sqlalchemy.engine.base.Engine ()\n",
            "2020-12-14 19:27:09,025 INFO sqlalchemy.engine.base.Engine COMMIT\n",
            "2020-12-14 19:27:09,027 INFO sqlalchemy.engine.base.Engine CREATE INDEX \"ix_purchases_ItemId\" ON purchases (\"ItemId\")\n",
            "2020-12-14 19:27:09,028 INFO sqlalchemy.engine.base.Engine ()\n",
            "2020-12-14 19:27:09,030 INFO sqlalchemy.engine.base.Engine COMMIT\n",
            "2020-12-14 19:27:09,031 INFO sqlalchemy.engine.base.Engine CREATE INDEX \"ix_purchases_CustomerId\" ON purchases (\"CustomerId\")\n",
            "2020-12-14 19:27:09,032 INFO sqlalchemy.engine.base.Engine ()\n",
            "2020-12-14 19:27:09,033 INFO sqlalchemy.engine.base.Engine COMMIT\n"
          ],
          "name": "stdout"
        }
      ]
    },
    {
      "cell_type": "code",
      "metadata": {
        "colab": {
          "base_uri": "https://localhost:8080/"
        },
        "id": "_2sYeBusvHHh",
        "outputId": "68b4d5a9-a6a0-4a53-818c-8c61bacc8f7c"
      },
      "source": [
        "engine.table_names()"
      ],
      "execution_count": 38,
      "outputs": [
        {
          "output_type": "stream",
          "text": [
            "2020-12-14 19:27:10,577 INFO sqlalchemy.engine.base.Engine SELECT name FROM sqlite_master WHERE type='table' ORDER BY name\n",
            "2020-12-14 19:27:10,578 INFO sqlalchemy.engine.base.Engine ()\n"
          ],
          "name": "stdout"
        },
        {
          "output_type": "execute_result",
          "data": {
            "text/plain": [
              "['customers', 'items', 'purchases']"
            ]
          },
          "metadata": {
            "tags": []
          },
          "execution_count": 38
        }
      ]
    },
    {
      "cell_type": "markdown",
      "metadata": {
        "id": "qFSxAxhuiUnP"
      },
      "source": [
        "### 6. Создадим покупателя"
      ]
    },
    {
      "cell_type": "code",
      "metadata": {
        "colab": {
          "base_uri": "https://localhost:8080/"
        },
        "id": "KOxFISXviT_M",
        "outputId": "4e11bf79-3ff0-47a6-cc28-b4c3e0d27aea"
      },
      "source": [
        "moshe = Customer(\n",
        "    FirstName='Moshe', \n",
        "    LastName='Cohen', \n",
        "    Address='Alenbi 99, Tel Aviv', \n",
        "    Phone=\"053-5556789\", \n",
        "    Email='moshe@cohen.com')\n",
        "\n",
        "session.add(moshe)\n",
        "session.commit()"
      ],
      "execution_count": 39,
      "outputs": [
        {
          "output_type": "stream",
          "text": [
            "2020-12-14 19:27:12,433 INFO sqlalchemy.engine.base.Engine BEGIN (implicit)\n",
            "2020-12-14 19:27:12,436 INFO sqlalchemy.engine.base.Engine INSERT INTO customers (\"FirstName\", \"LastName\", \"Company\", \"Address\", \"Phone\", \"Email\") VALUES (?, ?, ?, ?, ?, ?)\n",
            "2020-12-14 19:27:12,437 INFO sqlalchemy.engine.base.Engine ('Moshe', 'Cohen', None, 'Alenbi 99, Tel Aviv', '053-5556789', 'moshe@cohen.com')\n",
            "2020-12-14 19:27:12,440 INFO sqlalchemy.engine.base.Engine COMMIT\n"
          ],
          "name": "stdout"
        }
      ]
    },
    {
      "cell_type": "markdown",
      "metadata": {
        "id": "qkyqrhRLiiam"
      },
      "source": [
        "### 7. Выполним запрос\n",
        "\n",
        "Используя язык выражений SQLAchemy"
      ]
    },
    {
      "cell_type": "code",
      "metadata": {
        "colab": {
          "base_uri": "https://localhost:8080/"
        },
        "id": "y5TSctEEiUFv",
        "outputId": "22fde650-40ed-486e-9fee-0da30832b437"
      },
      "source": [
        "from sqlalchemy import select \n",
        "\n",
        "customers_query = select([Customer.FirstName, Customer.LastName, Customer.Email])\n",
        "results = conn.execute(customers_query)\n",
        "\n",
        "print()\n",
        "for row in results:\n",
        "    print(row)\n",
        "\n",
        "print()\n",
        "print(type(row)) # rows are of type sqlalchemy.engine.result.RowProxy"
      ],
      "execution_count": 40,
      "outputs": [
        {
          "output_type": "stream",
          "text": [
            "2020-12-14 19:27:14,904 INFO sqlalchemy.engine.base.Engine SELECT customers.\"FirstName\", customers.\"LastName\", customers.\"Email\" \n",
            "FROM customers\n",
            "2020-12-14 19:27:14,907 INFO sqlalchemy.engine.base.Engine ()\n",
            "\n",
            "('Moshe', 'Cohen', 'moshe@cohen.com')\n",
            "\n",
            "<class 'sqlalchemy.engine.result.RowProxy'>\n"
          ],
          "name": "stdout"
        }
      ]
    },
    {
      "cell_type": "code",
      "metadata": {
        "colab": {
          "base_uri": "https://localhost:8080/",
          "height": 131
        },
        "id": "POvqjYBciZGp",
        "outputId": "b14ea514-56ad-4d4f-b98d-d7ff2a6e56b7"
      },
      "source": [
        "display_results(customers_query)"
      ],
      "execution_count": 41,
      "outputs": [
        {
          "output_type": "stream",
          "text": [
            "2020-12-14 19:27:16,419 INFO sqlalchemy.engine.base.OptionEngine SELECT customers.\"FirstName\", customers.\"LastName\", customers.\"Email\" \n",
            "FROM customers\n",
            "2020-12-14 19:27:16,421 INFO sqlalchemy.engine.base.OptionEngine ()\n"
          ],
          "name": "stdout"
        },
        {
          "output_type": "display_data",
          "data": {
            "text/html": [
              "<div>\n",
              "<style scoped>\n",
              "    .dataframe tbody tr th:only-of-type {\n",
              "        vertical-align: middle;\n",
              "    }\n",
              "\n",
              "    .dataframe tbody tr th {\n",
              "        vertical-align: top;\n",
              "    }\n",
              "\n",
              "    .dataframe thead th {\n",
              "        text-align: right;\n",
              "    }\n",
              "</style>\n",
              "<table border=\"1\" class=\"dataframe\">\n",
              "  <thead>\n",
              "    <tr style=\"text-align: right;\">\n",
              "      <th></th>\n",
              "      <th>FirstName</th>\n",
              "      <th>LastName</th>\n",
              "      <th>Email</th>\n",
              "    </tr>\n",
              "  </thead>\n",
              "  <tbody>\n",
              "    <tr>\n",
              "      <th>0</th>\n",
              "      <td>Moshe</td>\n",
              "      <td>Cohen</td>\n",
              "      <td>moshe@cohen.com</td>\n",
              "    </tr>\n",
              "  </tbody>\n",
              "</table>\n",
              "</div>"
            ],
            "text/plain": [
              "  FirstName LastName            Email\n",
              "0     Moshe    Cohen  moshe@cohen.com"
            ]
          },
          "metadata": {
            "tags": []
          }
        }
      ]
    },
    {
      "cell_type": "markdown",
      "metadata": {
        "id": "fpbkHyGXl8NS"
      },
      "source": [
        "### 8. Добавим еще покупателей"
      ]
    },
    {
      "cell_type": "code",
      "metadata": {
        "colab": {
          "base_uri": "https://localhost:8080/"
        },
        "id": "yy4keSqBlZ9O",
        "outputId": "2b4d1400-0d03-4782-fefa-06d3ddc6276a"
      },
      "source": [
        "Lisa = Customer(\n",
        "    FirstName='Lisa',\n",
        "    LastName='Cohen', \n",
        "    Address='Alenbi 99, Tel Aviv', \n",
        "    Phone=\"052-1234565\", \n",
        "    Email='lisa@cohen.com')\n",
        "\n",
        "session.add(Lisa)\n",
        "session.commit()"
      ],
      "execution_count": 42,
      "outputs": [
        {
          "output_type": "stream",
          "text": [
            "2020-12-14 19:27:19,040 INFO sqlalchemy.engine.base.Engine BEGIN (implicit)\n",
            "2020-12-14 19:27:19,042 INFO sqlalchemy.engine.base.Engine INSERT INTO customers (\"FirstName\", \"LastName\", \"Company\", \"Address\", \"Phone\", \"Email\") VALUES (?, ?, ?, ?, ?, ?)\n",
            "2020-12-14 19:27:19,043 INFO sqlalchemy.engine.base.Engine ('Lisa', 'Cohen', None, 'Alenbi 99, Tel Aviv', '052-1234565', 'lisa@cohen.com')\n",
            "2020-12-14 19:27:19,044 INFO sqlalchemy.engine.base.Engine COMMIT\n"
          ],
          "name": "stdout"
        }
      ]
    },
    {
      "cell_type": "code",
      "metadata": {
        "colab": {
          "base_uri": "https://localhost:8080/"
        },
        "id": "XY4RHaH5mMQL",
        "outputId": "6e1028c0-a9e1-4330-8f4c-c5c309bb8279"
      },
      "source": [
        "Nika = Customer(\n",
        "    FirstName='Nika', \n",
        "    LastName='Rave', \n",
        "    Address='Green st, LA', \n",
        "    Phone=\"330-1234565\", \n",
        "    Email='Nika@rave.com')\n",
        "\n",
        "session.add(Nika)\n",
        "session.commit()"
      ],
      "execution_count": 43,
      "outputs": [
        {
          "output_type": "stream",
          "text": [
            "2020-12-14 19:27:19,753 INFO sqlalchemy.engine.base.Engine BEGIN (implicit)\n",
            "2020-12-14 19:27:19,755 INFO sqlalchemy.engine.base.Engine INSERT INTO customers (\"FirstName\", \"LastName\", \"Company\", \"Address\", \"Phone\", \"Email\") VALUES (?, ?, ?, ?, ?, ?)\n",
            "2020-12-14 19:27:19,757 INFO sqlalchemy.engine.base.Engine ('Nika', 'Rave', None, 'Green st, LA', '330-1234565', 'Nika@rave.com')\n",
            "2020-12-14 19:27:19,759 INFO sqlalchemy.engine.base.Engine COMMIT\n"
          ],
          "name": "stdout"
        }
      ]
    },
    {
      "cell_type": "code",
      "metadata": {
        "colab": {
          "base_uri": "https://localhost:8080/"
        },
        "id": "_Lnvtwbdf6OE",
        "outputId": "1c8c3d24-9d92-4309-dc17-f42e311de08a"
      },
      "source": [
        "Lisa_2 = Customer(\n",
        "    FirstName='Lisa',\n",
        "    LastName='White', \n",
        "    Address='Alenbi 66, Tel Aviv', \n",
        "    Phone=\"062-1234565\", \n",
        "    Email='lisa@White.com')\n",
        "\n",
        "session.add(Lisa_2)\n",
        "session.commit()"
      ],
      "execution_count": 44,
      "outputs": [
        {
          "output_type": "stream",
          "text": [
            "2020-12-14 19:27:21,090 INFO sqlalchemy.engine.base.Engine BEGIN (implicit)\n",
            "2020-12-14 19:27:21,093 INFO sqlalchemy.engine.base.Engine INSERT INTO customers (\"FirstName\", \"LastName\", \"Company\", \"Address\", \"Phone\", \"Email\") VALUES (?, ?, ?, ?, ?, ?)\n",
            "2020-12-14 19:27:21,096 INFO sqlalchemy.engine.base.Engine ('Lisa', 'White', None, 'Alenbi 66, Tel Aviv', '062-1234565', 'lisa@White.com')\n",
            "2020-12-14 19:27:21,097 INFO sqlalchemy.engine.base.Engine COMMIT\n"
          ],
          "name": "stdout"
        }
      ]
    },
    {
      "cell_type": "markdown",
      "metadata": {
        "id": "b0vj2Yq-mdI2"
      },
      "source": [
        "Посмотрим теперь на таблицу:"
      ]
    },
    {
      "cell_type": "code",
      "metadata": {
        "colab": {
          "base_uri": "https://localhost:8080/",
          "height": 224
        },
        "id": "RsboOt6smIYT",
        "outputId": "03725e01-1e99-453c-db52-250db3b27867"
      },
      "source": [
        "customers_query = select([Customer.FirstName, Customer.Email])\n",
        "display_results(customers_query)"
      ],
      "execution_count": 45,
      "outputs": [
        {
          "output_type": "stream",
          "text": [
            "2020-12-14 19:27:23,468 INFO sqlalchemy.engine.base.OptionEngine SELECT customers.\"FirstName\", customers.\"Email\" \n",
            "FROM customers\n",
            "2020-12-14 19:27:23,470 INFO sqlalchemy.engine.base.OptionEngine ()\n"
          ],
          "name": "stdout"
        },
        {
          "output_type": "display_data",
          "data": {
            "text/html": [
              "<div>\n",
              "<style scoped>\n",
              "    .dataframe tbody tr th:only-of-type {\n",
              "        vertical-align: middle;\n",
              "    }\n",
              "\n",
              "    .dataframe tbody tr th {\n",
              "        vertical-align: top;\n",
              "    }\n",
              "\n",
              "    .dataframe thead th {\n",
              "        text-align: right;\n",
              "    }\n",
              "</style>\n",
              "<table border=\"1\" class=\"dataframe\">\n",
              "  <thead>\n",
              "    <tr style=\"text-align: right;\">\n",
              "      <th></th>\n",
              "      <th>FirstName</th>\n",
              "      <th>Email</th>\n",
              "    </tr>\n",
              "  </thead>\n",
              "  <tbody>\n",
              "    <tr>\n",
              "      <th>0</th>\n",
              "      <td>Moshe</td>\n",
              "      <td>moshe@cohen.com</td>\n",
              "    </tr>\n",
              "    <tr>\n",
              "      <th>1</th>\n",
              "      <td>Lisa</td>\n",
              "      <td>lisa@cohen.com</td>\n",
              "    </tr>\n",
              "    <tr>\n",
              "      <th>2</th>\n",
              "      <td>Nika</td>\n",
              "      <td>Nika@rave.com</td>\n",
              "    </tr>\n",
              "    <tr>\n",
              "      <th>3</th>\n",
              "      <td>Lisa</td>\n",
              "      <td>lisa@White.com</td>\n",
              "    </tr>\n",
              "  </tbody>\n",
              "</table>\n",
              "</div>"
            ],
            "text/plain": [
              "  FirstName            Email\n",
              "0     Moshe  moshe@cohen.com\n",
              "1      Lisa   lisa@cohen.com\n",
              "2      Nika    Nika@rave.com\n",
              "3      Lisa   lisa@White.com"
            ]
          },
          "metadata": {
            "tags": []
          }
        }
      ]
    },
    {
      "cell_type": "code",
      "metadata": {
        "colab": {
          "base_uri": "https://localhost:8080/"
        },
        "id": "F80Y2DPxmnhA",
        "outputId": "91596f16-bed6-43dc-a5d8-b0aa7d50fc4f"
      },
      "source": [
        "Customer.__dict__"
      ],
      "execution_count": 46,
      "outputs": [
        {
          "output_type": "execute_result",
          "data": {
            "text/plain": [
              "mappingproxy({'Address': <sqlalchemy.orm.attributes.InstrumentedAttribute at 0x7fcf78dec468>,\n",
              "              'Company': <sqlalchemy.orm.attributes.InstrumentedAttribute at 0x7fcf78dec4c0>,\n",
              "              'CustomerId': <sqlalchemy.orm.attributes.InstrumentedAttribute at 0x7fcf78dec2b0>,\n",
              "              'Email': <sqlalchemy.orm.attributes.InstrumentedAttribute at 0x7fcf78dec3b8>,\n",
              "              'FirstName': <sqlalchemy.orm.attributes.InstrumentedAttribute at 0x7fcf78dec570>,\n",
              "              'LastName': <sqlalchemy.orm.attributes.InstrumentedAttribute at 0x7fcf78dec518>,\n",
              "              'Phone': <sqlalchemy.orm.attributes.InstrumentedAttribute at 0x7fcf78dec1a8>,\n",
              "              '__doc__': None,\n",
              "              '__init__': <function __init__>,\n",
              "              '__mapper__': <Mapper at 0x7fcf5ce219e8; Customer>,\n",
              "              '__module__': '__main__',\n",
              "              '__table__': Table('customers', MetaData(bind=None), Column('CustomerId', Integer(), table=<customers>, primary_key=True, nullable=False, default=Sequence('customer_id_seq', metadata=MetaData(bind=None))), Column('FirstName', NVARCHAR(length=40), table=<customers>, nullable=False), Column('LastName', NVARCHAR(length=20), table=<customers>, nullable=False), Column('Company', NVARCHAR(length=80), table=<customers>), Column('Address', NVARCHAR(length=70), table=<customers>), Column('Phone', NVARCHAR(length=24), table=<customers>), Column('Email', NVARCHAR(length=60), table=<customers>, nullable=False), schema=None),\n",
              "              '__tablename__': 'customers',\n",
              "              '_sa_class_manager': <ClassManager of <class '__main__.Customer'> at 7fcf78dec678>})"
            ]
          },
          "metadata": {
            "tags": []
          },
          "execution_count": 46
        }
      ]
    },
    {
      "cell_type": "code",
      "metadata": {
        "colab": {
          "base_uri": "https://localhost:8080/"
        },
        "id": "OGszDoPtFLQA",
        "outputId": "9c9f8529-c66b-4775-b989-f325724bdd34"
      },
      "source": [
        "list_info = session.query(Customer).all()"
      ],
      "execution_count": 47,
      "outputs": [
        {
          "output_type": "stream",
          "text": [
            "2020-12-14 19:27:26,121 INFO sqlalchemy.engine.base.Engine BEGIN (implicit)\n",
            "2020-12-14 19:27:26,124 INFO sqlalchemy.engine.base.Engine SELECT customers.\"CustomerId\" AS \"customers_CustomerId\", customers.\"FirstName\" AS \"customers_FirstName\", customers.\"LastName\" AS \"customers_LastName\", customers.\"Company\" AS \"customers_Company\", customers.\"Address\" AS \"customers_Address\", customers.\"Phone\" AS \"customers_Phone\", customers.\"Email\" AS \"customers_Email\" \n",
            "FROM customers\n",
            "2020-12-14 19:27:26,125 INFO sqlalchemy.engine.base.Engine ()\n"
          ],
          "name": "stdout"
        }
      ]
    },
    {
      "cell_type": "code",
      "metadata": {
        "colab": {
          "base_uri": "https://localhost:8080/"
        },
        "id": "4j6u2fIpFVy0",
        "outputId": "e9d1f7dd-b539-4c0b-9859-6343cba16e3b"
      },
      "source": [
        "list_info"
      ],
      "execution_count": 48,
      "outputs": [
        {
          "output_type": "execute_result",
          "data": {
            "text/plain": [
              "[Customer(CustomerId=1, FirstName='Moshe', LastName='Cohen', Company=None, Address='Alenbi 99, Tel Aviv', Phone='053-5556789', Email='moshe@cohen.com'),\n",
              " Customer(CustomerId=2, FirstName='Lisa', LastName='Cohen', Company=None, Address='Alenbi 99, Tel Aviv', Phone='052-1234565', Email='lisa@cohen.com'),\n",
              " Customer(CustomerId=3, FirstName='Nika', LastName='Rave', Company=None, Address='Green st, LA', Phone='330-1234565', Email='Nika@rave.com'),\n",
              " Customer(CustomerId=4, FirstName='Lisa', LastName='White', Company=None, Address='Alenbi 66, Tel Aviv', Phone='062-1234565', Email='lisa@White.com')]"
            ]
          },
          "metadata": {
            "tags": []
          },
          "execution_count": 48
        }
      ]
    },
    {
      "cell_type": "code",
      "metadata": {
        "colab": {
          "base_uri": "https://localhost:8080/"
        },
        "id": "yZFNV21ZF2cm",
        "outputId": "1d84f953-d691-49f0-a8fd-724751f18892"
      },
      "source": [
        "for id_ in list_info:\n",
        "    print(id_.CustomerId)"
      ],
      "execution_count": 49,
      "outputs": [
        {
          "output_type": "stream",
          "text": [
            "1\n",
            "2\n",
            "3\n",
            "4\n"
          ],
          "name": "stdout"
        }
      ]
    },
    {
      "cell_type": "code",
      "metadata": {
        "id": "r7GBKPbyFtk5"
      },
      "source": [
        "first_info = session.query(Customer.CustomerId)"
      ],
      "execution_count": 50,
      "outputs": []
    },
    {
      "cell_type": "code",
      "metadata": {
        "colab": {
          "base_uri": "https://localhost:8080/"
        },
        "id": "BNG4z4rmFtto",
        "outputId": "71f00c11-76fe-4bc2-af71-3964816612b4"
      },
      "source": [
        "first_info"
      ],
      "execution_count": 51,
      "outputs": [
        {
          "output_type": "execute_result",
          "data": {
            "text/plain": [
              "<sqlalchemy.orm.query.Query at 0x7fcf5cd423c8>"
            ]
          },
          "metadata": {
            "tags": []
          },
          "execution_count": 51
        }
      ]
    },
    {
      "cell_type": "code",
      "metadata": {
        "id": "EaSs_czPFV7N"
      },
      "source": [
        ""
      ],
      "execution_count": 51,
      "outputs": []
    },
    {
      "cell_type": "markdown",
      "metadata": {
        "id": "hQxYclwUubk-"
      },
      "source": [
        "Операторы **desc**, **asc**, **order_by**\n",
        "\n",
        "Оператор SQL ORDER BY выполняет сортировку выходных значений. Оператор SQL ORDER BY можно применять как к числовым столбцам, так и к строковым. В последнем случае, сортировка будет происходить по алфавиту.\n",
        "\n",
        "`ORDER BY column_name [ASC | DESC]`\n",
        "\n",
        "ASC - по возрастанию, DESC - по убыванию"
      ]
    },
    {
      "cell_type": "code",
      "metadata": {
        "id": "3j-tH7eZfCaZ"
      },
      "source": [
        "from sqlalchemy import *"
      ],
      "execution_count": 52,
      "outputs": []
    },
    {
      "cell_type": "code",
      "metadata": {
        "colab": {
          "base_uri": "https://localhost:8080/",
          "height": 224
        },
        "id": "0vrh4XAilaHO",
        "outputId": "80a86299-d662-4636-cf04-997b1853835a"
      },
      "source": [
        "from sqlalchemy import desc, asc\n",
        "\n",
        "customers_query = select([Customer.FirstName, Customer.LastName, Customer.Email]).order_by(asc(Customer.FirstName), desc(Customer.LastName))\n",
        "#customers_query = customers_query.order_by(asc(Customer.FirstName))\n",
        "\n",
        "display_results(customers_query)"
      ],
      "execution_count": 53,
      "outputs": [
        {
          "output_type": "stream",
          "text": [
            "2020-12-14 19:27:35,461 INFO sqlalchemy.engine.base.OptionEngine SELECT customers.\"FirstName\", customers.\"LastName\", customers.\"Email\" \n",
            "FROM customers ORDER BY customers.\"FirstName\" ASC, customers.\"LastName\" DESC\n",
            "2020-12-14 19:27:35,463 INFO sqlalchemy.engine.base.OptionEngine ()\n"
          ],
          "name": "stdout"
        },
        {
          "output_type": "display_data",
          "data": {
            "text/html": [
              "<div>\n",
              "<style scoped>\n",
              "    .dataframe tbody tr th:only-of-type {\n",
              "        vertical-align: middle;\n",
              "    }\n",
              "\n",
              "    .dataframe tbody tr th {\n",
              "        vertical-align: top;\n",
              "    }\n",
              "\n",
              "    .dataframe thead th {\n",
              "        text-align: right;\n",
              "    }\n",
              "</style>\n",
              "<table border=\"1\" class=\"dataframe\">\n",
              "  <thead>\n",
              "    <tr style=\"text-align: right;\">\n",
              "      <th></th>\n",
              "      <th>FirstName</th>\n",
              "      <th>LastName</th>\n",
              "      <th>Email</th>\n",
              "    </tr>\n",
              "  </thead>\n",
              "  <tbody>\n",
              "    <tr>\n",
              "      <th>0</th>\n",
              "      <td>Lisa</td>\n",
              "      <td>White</td>\n",
              "      <td>lisa@White.com</td>\n",
              "    </tr>\n",
              "    <tr>\n",
              "      <th>1</th>\n",
              "      <td>Lisa</td>\n",
              "      <td>Cohen</td>\n",
              "      <td>lisa@cohen.com</td>\n",
              "    </tr>\n",
              "    <tr>\n",
              "      <th>2</th>\n",
              "      <td>Moshe</td>\n",
              "      <td>Cohen</td>\n",
              "      <td>moshe@cohen.com</td>\n",
              "    </tr>\n",
              "    <tr>\n",
              "      <th>3</th>\n",
              "      <td>Nika</td>\n",
              "      <td>Rave</td>\n",
              "      <td>Nika@rave.com</td>\n",
              "    </tr>\n",
              "  </tbody>\n",
              "</table>\n",
              "</div>"
            ],
            "text/plain": [
              "  FirstName LastName            Email\n",
              "0      Lisa    White   lisa@White.com\n",
              "1      Lisa    Cohen   lisa@cohen.com\n",
              "2     Moshe    Cohen  moshe@cohen.com\n",
              "3      Nika     Rave    Nika@rave.com"
            ]
          },
          "metadata": {
            "tags": []
          }
        }
      ]
    },
    {
      "cell_type": "code",
      "metadata": {
        "colab": {
          "base_uri": "https://localhost:8080/",
          "height": 224
        },
        "id": "3cEc3sCZn8UF",
        "outputId": "ad18bb67-1730-42d9-c85c-64fd527685da"
      },
      "source": [
        "customers_query = customers_query.order_by(desc(Customer.FirstName))\n",
        "\n",
        "display_results(customers_query)"
      ],
      "execution_count": 54,
      "outputs": [
        {
          "output_type": "stream",
          "text": [
            "2020-12-14 19:27:36,586 INFO sqlalchemy.engine.base.OptionEngine SELECT customers.\"FirstName\", customers.\"LastName\", customers.\"Email\" \n",
            "FROM customers ORDER BY customers.\"FirstName\" ASC, customers.\"LastName\" DESC, customers.\"FirstName\" DESC\n",
            "2020-12-14 19:27:36,589 INFO sqlalchemy.engine.base.OptionEngine ()\n"
          ],
          "name": "stdout"
        },
        {
          "output_type": "display_data",
          "data": {
            "text/html": [
              "<div>\n",
              "<style scoped>\n",
              "    .dataframe tbody tr th:only-of-type {\n",
              "        vertical-align: middle;\n",
              "    }\n",
              "\n",
              "    .dataframe tbody tr th {\n",
              "        vertical-align: top;\n",
              "    }\n",
              "\n",
              "    .dataframe thead th {\n",
              "        text-align: right;\n",
              "    }\n",
              "</style>\n",
              "<table border=\"1\" class=\"dataframe\">\n",
              "  <thead>\n",
              "    <tr style=\"text-align: right;\">\n",
              "      <th></th>\n",
              "      <th>FirstName</th>\n",
              "      <th>LastName</th>\n",
              "      <th>Email</th>\n",
              "    </tr>\n",
              "  </thead>\n",
              "  <tbody>\n",
              "    <tr>\n",
              "      <th>0</th>\n",
              "      <td>Lisa</td>\n",
              "      <td>White</td>\n",
              "      <td>lisa@White.com</td>\n",
              "    </tr>\n",
              "    <tr>\n",
              "      <th>1</th>\n",
              "      <td>Lisa</td>\n",
              "      <td>Cohen</td>\n",
              "      <td>lisa@cohen.com</td>\n",
              "    </tr>\n",
              "    <tr>\n",
              "      <th>2</th>\n",
              "      <td>Moshe</td>\n",
              "      <td>Cohen</td>\n",
              "      <td>moshe@cohen.com</td>\n",
              "    </tr>\n",
              "    <tr>\n",
              "      <th>3</th>\n",
              "      <td>Nika</td>\n",
              "      <td>Rave</td>\n",
              "      <td>Nika@rave.com</td>\n",
              "    </tr>\n",
              "  </tbody>\n",
              "</table>\n",
              "</div>"
            ],
            "text/plain": [
              "  FirstName LastName            Email\n",
              "0      Lisa    White   lisa@White.com\n",
              "1      Lisa    Cohen   lisa@cohen.com\n",
              "2     Moshe    Cohen  moshe@cohen.com\n",
              "3      Nika     Rave    Nika@rave.com"
            ]
          },
          "metadata": {
            "tags": []
          }
        }
      ]
    },
    {
      "cell_type": "markdown",
      "metadata": {
        "id": "_JfBzH4FuYxd"
      },
      "source": [
        "**where**\n",
        "Оператор SQL WHERE служит для задания дополнительного условия выборки, операций вставки, редактирования и удаления записей.\n",
        "\n",
        "`where condition`"
      ]
    },
    {
      "cell_type": "code",
      "metadata": {
        "colab": {
          "base_uri": "https://localhost:8080/",
          "height": 179
        },
        "id": "FBvycyqmsheX",
        "outputId": "2fe1396e-76fa-4fc5-e32b-94e7c83943e5"
      },
      "source": [
        "customers_query = select([Customer.FirstName, Customer.LastName, Customer.Email])\n",
        "customers_query = customers_query.where(Customer.FirstName == 'Lisa')\n",
        "\n",
        "display_results(customers_query)"
      ],
      "execution_count": 55,
      "outputs": [
        {
          "output_type": "stream",
          "text": [
            "2020-12-14 19:27:39,570 INFO sqlalchemy.engine.base.OptionEngine SELECT customers.\"FirstName\", customers.\"LastName\", customers.\"Email\" \n",
            "FROM customers \n",
            "WHERE customers.\"FirstName\" = ?\n",
            "2020-12-14 19:27:39,571 INFO sqlalchemy.engine.base.OptionEngine ('Lisa',)\n"
          ],
          "name": "stdout"
        },
        {
          "output_type": "display_data",
          "data": {
            "text/html": [
              "<div>\n",
              "<style scoped>\n",
              "    .dataframe tbody tr th:only-of-type {\n",
              "        vertical-align: middle;\n",
              "    }\n",
              "\n",
              "    .dataframe tbody tr th {\n",
              "        vertical-align: top;\n",
              "    }\n",
              "\n",
              "    .dataframe thead th {\n",
              "        text-align: right;\n",
              "    }\n",
              "</style>\n",
              "<table border=\"1\" class=\"dataframe\">\n",
              "  <thead>\n",
              "    <tr style=\"text-align: right;\">\n",
              "      <th></th>\n",
              "      <th>FirstName</th>\n",
              "      <th>LastName</th>\n",
              "      <th>Email</th>\n",
              "    </tr>\n",
              "  </thead>\n",
              "  <tbody>\n",
              "    <tr>\n",
              "      <th>0</th>\n",
              "      <td>Lisa</td>\n",
              "      <td>Cohen</td>\n",
              "      <td>lisa@cohen.com</td>\n",
              "    </tr>\n",
              "    <tr>\n",
              "      <th>1</th>\n",
              "      <td>Lisa</td>\n",
              "      <td>White</td>\n",
              "      <td>lisa@White.com</td>\n",
              "    </tr>\n",
              "  </tbody>\n",
              "</table>\n",
              "</div>"
            ],
            "text/plain": [
              "  FirstName LastName           Email\n",
              "0      Lisa    Cohen  lisa@cohen.com\n",
              "1      Lisa    White  lisa@White.com"
            ]
          },
          "metadata": {
            "tags": []
          }
        }
      ]
    },
    {
      "cell_type": "code",
      "metadata": {
        "id": "UUJsP93ugxUE"
      },
      "source": [
        "customers_query = select([Customer.FirstName, Customer.LastName, Customer.Email])\n",
        "customers_query = customers_query.where(Customer.FirstName == 'Lisa').order_by(asc(Customer.LastName))"
      ],
      "execution_count": 56,
      "outputs": []
    },
    {
      "cell_type": "code",
      "metadata": {
        "colab": {
          "base_uri": "https://localhost:8080/",
          "height": 179
        },
        "id": "nf78FV4Lga-U",
        "outputId": "38ad5511-8aa3-46b6-a8fa-c4fbf94f1d03"
      },
      "source": [
        "display_results(customers_query)"
      ],
      "execution_count": 57,
      "outputs": [
        {
          "output_type": "stream",
          "text": [
            "2020-12-14 19:27:42,304 INFO sqlalchemy.engine.base.OptionEngine SELECT customers.\"FirstName\", customers.\"LastName\", customers.\"Email\" \n",
            "FROM customers \n",
            "WHERE customers.\"FirstName\" = ? ORDER BY customers.\"LastName\" ASC\n",
            "2020-12-14 19:27:42,306 INFO sqlalchemy.engine.base.OptionEngine ('Lisa',)\n"
          ],
          "name": "stdout"
        },
        {
          "output_type": "display_data",
          "data": {
            "text/html": [
              "<div>\n",
              "<style scoped>\n",
              "    .dataframe tbody tr th:only-of-type {\n",
              "        vertical-align: middle;\n",
              "    }\n",
              "\n",
              "    .dataframe tbody tr th {\n",
              "        vertical-align: top;\n",
              "    }\n",
              "\n",
              "    .dataframe thead th {\n",
              "        text-align: right;\n",
              "    }\n",
              "</style>\n",
              "<table border=\"1\" class=\"dataframe\">\n",
              "  <thead>\n",
              "    <tr style=\"text-align: right;\">\n",
              "      <th></th>\n",
              "      <th>FirstName</th>\n",
              "      <th>LastName</th>\n",
              "      <th>Email</th>\n",
              "    </tr>\n",
              "  </thead>\n",
              "  <tbody>\n",
              "    <tr>\n",
              "      <th>0</th>\n",
              "      <td>Lisa</td>\n",
              "      <td>Cohen</td>\n",
              "      <td>lisa@cohen.com</td>\n",
              "    </tr>\n",
              "    <tr>\n",
              "      <th>1</th>\n",
              "      <td>Lisa</td>\n",
              "      <td>White</td>\n",
              "      <td>lisa@White.com</td>\n",
              "    </tr>\n",
              "  </tbody>\n",
              "</table>\n",
              "</div>"
            ],
            "text/plain": [
              "  FirstName LastName           Email\n",
              "0      Lisa    Cohen  lisa@cohen.com\n",
              "1      Lisa    White  lisa@White.com"
            ]
          },
          "metadata": {
            "tags": []
          }
        }
      ]
    },
    {
      "cell_type": "markdown",
      "metadata": {
        "id": "hSVfs1IPsQl0"
      },
      "source": [
        "Документация по операторам в SQLAchemy:\n",
        "\n",
        "https://docs.sqlalchemy.org/en/13/core/sqlelement.html"
      ]
    },
    {
      "cell_type": "markdown",
      "metadata": {
        "id": "A7oCKgfNlIrD"
      },
      "source": [
        "## SQLAchemy + Pandas"
      ]
    },
    {
      "cell_type": "code",
      "metadata": {
        "id": "qFRX0AbliZNm"
      },
      "source": [
        "import pandas as pd"
      ],
      "execution_count": 58,
      "outputs": []
    },
    {
      "cell_type": "code",
      "metadata": {
        "colab": {
          "base_uri": "https://localhost:8080/",
          "height": 35
        },
        "id": "Hb5nniFklCHb",
        "outputId": "c825c9f8-21ea-40c5-ed5a-0e1b555860d0"
      },
      "source": [
        "#выведем название нашей таблицы\n",
        "Item.__tablename__"
      ],
      "execution_count": 59,
      "outputs": [
        {
          "output_type": "execute_result",
          "data": {
            "application/vnd.google.colaboratory.intrinsic+json": {
              "type": "string"
            },
            "text/plain": [
              "'items'"
            ]
          },
          "metadata": {
            "tags": []
          },
          "execution_count": 59
        }
      ]
    },
    {
      "cell_type": "code",
      "metadata": {
        "colab": {
          "base_uri": "https://localhost:8080/",
          "height": 275
        },
        "id": "47RSBePYiUM2",
        "outputId": "c498209d-736d-4e03-aac0-a0476283bd24"
      },
      "source": [
        "df = pd.read_sql('SELECT * FROM customers', conn)\n",
        "df.tail()"
      ],
      "execution_count": 60,
      "outputs": [
        {
          "output_type": "stream",
          "text": [
            "2020-12-14 19:27:47,499 INFO sqlalchemy.engine.base.Engine PRAGMA main.table_info(\"SELECT * FROM customers\")\n",
            "2020-12-14 19:27:47,501 INFO sqlalchemy.engine.base.Engine ()\n",
            "2020-12-14 19:27:47,502 INFO sqlalchemy.engine.base.Engine PRAGMA temp.table_info(\"SELECT * FROM customers\")\n",
            "2020-12-14 19:27:47,504 INFO sqlalchemy.engine.base.Engine ()\n",
            "2020-12-14 19:27:47,505 INFO sqlalchemy.engine.base.Engine SELECT * FROM customers\n",
            "2020-12-14 19:27:47,507 INFO sqlalchemy.engine.base.Engine ()\n"
          ],
          "name": "stdout"
        },
        {
          "output_type": "execute_result",
          "data": {
            "text/html": [
              "<div>\n",
              "<style scoped>\n",
              "    .dataframe tbody tr th:only-of-type {\n",
              "        vertical-align: middle;\n",
              "    }\n",
              "\n",
              "    .dataframe tbody tr th {\n",
              "        vertical-align: top;\n",
              "    }\n",
              "\n",
              "    .dataframe thead th {\n",
              "        text-align: right;\n",
              "    }\n",
              "</style>\n",
              "<table border=\"1\" class=\"dataframe\">\n",
              "  <thead>\n",
              "    <tr style=\"text-align: right;\">\n",
              "      <th></th>\n",
              "      <th>CustomerId</th>\n",
              "      <th>FirstName</th>\n",
              "      <th>LastName</th>\n",
              "      <th>Company</th>\n",
              "      <th>Address</th>\n",
              "      <th>Phone</th>\n",
              "      <th>Email</th>\n",
              "    </tr>\n",
              "  </thead>\n",
              "  <tbody>\n",
              "    <tr>\n",
              "      <th>0</th>\n",
              "      <td>1</td>\n",
              "      <td>Moshe</td>\n",
              "      <td>Cohen</td>\n",
              "      <td>None</td>\n",
              "      <td>Alenbi 99, Tel Aviv</td>\n",
              "      <td>053-5556789</td>\n",
              "      <td>moshe@cohen.com</td>\n",
              "    </tr>\n",
              "    <tr>\n",
              "      <th>1</th>\n",
              "      <td>2</td>\n",
              "      <td>Lisa</td>\n",
              "      <td>Cohen</td>\n",
              "      <td>None</td>\n",
              "      <td>Alenbi 99, Tel Aviv</td>\n",
              "      <td>052-1234565</td>\n",
              "      <td>lisa@cohen.com</td>\n",
              "    </tr>\n",
              "    <tr>\n",
              "      <th>2</th>\n",
              "      <td>3</td>\n",
              "      <td>Nika</td>\n",
              "      <td>Rave</td>\n",
              "      <td>None</td>\n",
              "      <td>Green st, LA</td>\n",
              "      <td>330-1234565</td>\n",
              "      <td>Nika@rave.com</td>\n",
              "    </tr>\n",
              "    <tr>\n",
              "      <th>3</th>\n",
              "      <td>4</td>\n",
              "      <td>Lisa</td>\n",
              "      <td>White</td>\n",
              "      <td>None</td>\n",
              "      <td>Alenbi 66, Tel Aviv</td>\n",
              "      <td>062-1234565</td>\n",
              "      <td>lisa@White.com</td>\n",
              "    </tr>\n",
              "  </tbody>\n",
              "</table>\n",
              "</div>"
            ],
            "text/plain": [
              "   CustomerId FirstName  ...        Phone            Email\n",
              "0           1     Moshe  ...  053-5556789  moshe@cohen.com\n",
              "1           2      Lisa  ...  052-1234565   lisa@cohen.com\n",
              "2           3      Nika  ...  330-1234565    Nika@rave.com\n",
              "3           4      Lisa  ...  062-1234565   lisa@White.com\n",
              "\n",
              "[4 rows x 7 columns]"
            ]
          },
          "metadata": {
            "tags": []
          },
          "execution_count": 60
        }
      ]
    },
    {
      "cell_type": "code",
      "metadata": {
        "colab": {
          "base_uri": "https://localhost:8080/",
          "height": 632
        },
        "id": "8N_pMxycvWZ7",
        "outputId": "ef654867-32a6-49e9-86b8-b25e8838ac33"
      },
      "source": [
        "# Если хотим получить отсортированные значения - ключевая команда ORDER BY\n",
        "sql = \"\"\"\n",
        "SELECT \n",
        "    *\n",
        "FROM\n",
        "    customers\n",
        "ORDER BY \n",
        "    LastName ASC;\n",
        "\"\"\"\n",
        "df = pd.read_sql(sql, conn)\n",
        "\n",
        "df.head()"
      ],
      "execution_count": 61,
      "outputs": [
        {
          "output_type": "stream",
          "text": [
            "2020-12-14 19:27:48,661 INFO sqlalchemy.engine.base.Engine PRAGMA main.table_info(\"\n",
            "SELECT \n",
            "    *\n",
            "FROM\n",
            "    customers\n",
            "ORDER BY \n",
            "    LastName ASC;\n",
            "\")\n",
            "2020-12-14 19:27:48,662 INFO sqlalchemy.engine.base.Engine ()\n",
            "2020-12-14 19:27:48,664 INFO sqlalchemy.engine.base.Engine PRAGMA temp.table_info(\"\n",
            "SELECT \n",
            "    *\n",
            "FROM\n",
            "    customers\n",
            "ORDER BY \n",
            "    LastName ASC;\n",
            "\")\n",
            "2020-12-14 19:27:48,665 INFO sqlalchemy.engine.base.Engine ()\n",
            "2020-12-14 19:27:48,666 INFO sqlalchemy.engine.base.Engine \n",
            "SELECT \n",
            "    *\n",
            "FROM\n",
            "    customers\n",
            "ORDER BY \n",
            "    LastName ASC;\n",
            "\n",
            "2020-12-14 19:27:48,668 INFO sqlalchemy.engine.base.Engine ()\n"
          ],
          "name": "stdout"
        },
        {
          "output_type": "execute_result",
          "data": {
            "text/html": [
              "<div>\n",
              "<style scoped>\n",
              "    .dataframe tbody tr th:only-of-type {\n",
              "        vertical-align: middle;\n",
              "    }\n",
              "\n",
              "    .dataframe tbody tr th {\n",
              "        vertical-align: top;\n",
              "    }\n",
              "\n",
              "    .dataframe thead th {\n",
              "        text-align: right;\n",
              "    }\n",
              "</style>\n",
              "<table border=\"1\" class=\"dataframe\">\n",
              "  <thead>\n",
              "    <tr style=\"text-align: right;\">\n",
              "      <th></th>\n",
              "      <th>CustomerId</th>\n",
              "      <th>FirstName</th>\n",
              "      <th>LastName</th>\n",
              "      <th>Company</th>\n",
              "      <th>Address</th>\n",
              "      <th>Phone</th>\n",
              "      <th>Email</th>\n",
              "    </tr>\n",
              "  </thead>\n",
              "  <tbody>\n",
              "    <tr>\n",
              "      <th>0</th>\n",
              "      <td>1</td>\n",
              "      <td>Moshe</td>\n",
              "      <td>Cohen</td>\n",
              "      <td>None</td>\n",
              "      <td>Alenbi 99, Tel Aviv</td>\n",
              "      <td>053-5556789</td>\n",
              "      <td>moshe@cohen.com</td>\n",
              "    </tr>\n",
              "    <tr>\n",
              "      <th>1</th>\n",
              "      <td>2</td>\n",
              "      <td>Lisa</td>\n",
              "      <td>Cohen</td>\n",
              "      <td>None</td>\n",
              "      <td>Alenbi 99, Tel Aviv</td>\n",
              "      <td>052-1234565</td>\n",
              "      <td>lisa@cohen.com</td>\n",
              "    </tr>\n",
              "    <tr>\n",
              "      <th>2</th>\n",
              "      <td>3</td>\n",
              "      <td>Nika</td>\n",
              "      <td>Rave</td>\n",
              "      <td>None</td>\n",
              "      <td>Green st, LA</td>\n",
              "      <td>330-1234565</td>\n",
              "      <td>Nika@rave.com</td>\n",
              "    </tr>\n",
              "    <tr>\n",
              "      <th>3</th>\n",
              "      <td>4</td>\n",
              "      <td>Lisa</td>\n",
              "      <td>White</td>\n",
              "      <td>None</td>\n",
              "      <td>Alenbi 66, Tel Aviv</td>\n",
              "      <td>062-1234565</td>\n",
              "      <td>lisa@White.com</td>\n",
              "    </tr>\n",
              "  </tbody>\n",
              "</table>\n",
              "</div>"
            ],
            "text/plain": [
              "   CustomerId FirstName  ...        Phone            Email\n",
              "0           1     Moshe  ...  053-5556789  moshe@cohen.com\n",
              "1           2      Lisa  ...  052-1234565   lisa@cohen.com\n",
              "2           3      Nika  ...  330-1234565    Nika@rave.com\n",
              "3           4      Lisa  ...  062-1234565   lisa@White.com\n",
              "\n",
              "[4 rows x 7 columns]"
            ]
          },
          "metadata": {
            "tags": []
          },
          "execution_count": 61
        }
      ]
    },
    {
      "cell_type": "code",
      "metadata": {
        "colab": {
          "base_uri": "https://localhost:8080/",
          "height": 601
        },
        "id": "-UA9_QlHf0ne",
        "outputId": "6735c1de-b5ec-429a-f8fb-393b48c43074"
      },
      "source": [
        "# Если хотим получить уникальные значения - ключевая команда DISTINCT\n",
        "df = pd.read_sql(\"\"\"\n",
        "SELECT \n",
        "    DISTINCT LastName\n",
        "FROM\n",
        "    customers\n",
        "ORDER BY \n",
        "    LastName;\n",
        "\"\"\", conn)\n",
        "\n",
        "df.head()"
      ],
      "execution_count": 62,
      "outputs": [
        {
          "output_type": "stream",
          "text": [
            "2020-12-14 19:27:50,165 INFO sqlalchemy.engine.base.Engine PRAGMA main.table_info(\"\n",
            "SELECT \n",
            "    DISTINCT LastName\n",
            "FROM\n",
            "    customers\n",
            "ORDER BY \n",
            "    LastName;\n",
            "\")\n",
            "2020-12-14 19:27:50,166 INFO sqlalchemy.engine.base.Engine ()\n",
            "2020-12-14 19:27:50,167 INFO sqlalchemy.engine.base.Engine PRAGMA temp.table_info(\"\n",
            "SELECT \n",
            "    DISTINCT LastName\n",
            "FROM\n",
            "    customers\n",
            "ORDER BY \n",
            "    LastName;\n",
            "\")\n",
            "2020-12-14 19:27:50,168 INFO sqlalchemy.engine.base.Engine ()\n",
            "2020-12-14 19:27:50,169 INFO sqlalchemy.engine.base.Engine \n",
            "SELECT \n",
            "    DISTINCT LastName\n",
            "FROM\n",
            "    customers\n",
            "ORDER BY \n",
            "    LastName;\n",
            "\n",
            "2020-12-14 19:27:50,170 INFO sqlalchemy.engine.base.Engine ()\n"
          ],
          "name": "stdout"
        },
        {
          "output_type": "execute_result",
          "data": {
            "text/html": [
              "<div>\n",
              "<style scoped>\n",
              "    .dataframe tbody tr th:only-of-type {\n",
              "        vertical-align: middle;\n",
              "    }\n",
              "\n",
              "    .dataframe tbody tr th {\n",
              "        vertical-align: top;\n",
              "    }\n",
              "\n",
              "    .dataframe thead th {\n",
              "        text-align: right;\n",
              "    }\n",
              "</style>\n",
              "<table border=\"1\" class=\"dataframe\">\n",
              "  <thead>\n",
              "    <tr style=\"text-align: right;\">\n",
              "      <th></th>\n",
              "      <th>LastName</th>\n",
              "    </tr>\n",
              "  </thead>\n",
              "  <tbody>\n",
              "    <tr>\n",
              "      <th>0</th>\n",
              "      <td>Cohen</td>\n",
              "    </tr>\n",
              "    <tr>\n",
              "      <th>1</th>\n",
              "      <td>Rave</td>\n",
              "    </tr>\n",
              "    <tr>\n",
              "      <th>2</th>\n",
              "      <td>White</td>\n",
              "    </tr>\n",
              "  </tbody>\n",
              "</table>\n",
              "</div>"
            ],
            "text/plain": [
              "  LastName\n",
              "0    Cohen\n",
              "1     Rave\n",
              "2    White"
            ]
          },
          "metadata": {
            "tags": []
          },
          "execution_count": 62
        }
      ]
    },
    {
      "cell_type": "markdown",
      "metadata": {
        "id": "mckZNlhL2NLq"
      },
      "source": [
        "# ДЗ\n",
        " Дедлайн **15.12.2020, 23:59**\n",
        "  \n",
        "- Решить первые 20 задач с сайта https://www.sql-ex.ru (Раздел SELECT(обучающий этап)). Оценивается пропорционально кол-ву выполненных задач. + 20 % (еще 15 задач)\n",
        "\n",
        "- Дополнить таблицу 'items' и 'purchases' 5ью экземплярами (каждую) на Ваш Выбор. Важно: они должны быть привязаны к существующим покупателям Lisa, Nika, Moshe.\n",
        "- При помощи запроса SQLAlchemy вывести все покупки Lisa. Вывести тоже самое при помощи Pandas."
      ]
    },
    {
      "cell_type": "code",
      "metadata": {
        "id": "epFrH50IzmR5"
      },
      "source": [
        ""
      ],
      "execution_count": null,
      "outputs": []
    },
    {
      "cell_type": "markdown",
      "metadata": {
        "id": "Y0mby_GZtSxJ"
      },
      "source": [
        "____________________________________________________________________________________________________________________________________________________________"
      ]
    },
    {
      "cell_type": "markdown",
      "metadata": {
        "id": "XQR5WgLYtNp_"
      },
      "source": [
        "Задание 1: Решить первые 20 задач с сайта https://www.sql-ex.ru (Раздел SELECT(обучающий этап)). Оценивается пропорционально кол-ву выполненных задач. + 20 % (еще 15 задач)"
      ]
    },
    {
      "cell_type": "markdown",
      "metadata": {
        "id": "qlsANAl0tI6d"
      },
      "source": [
        "![Безымянный.png](data:image/png;base64,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)"
      ]
    }
  ]
}