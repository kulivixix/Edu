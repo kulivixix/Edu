{
  "nbformat": 4,
  "nbformat_minor": 0,
  "metadata": {
    "colab": {
      "name": "Part_1_HW_Write_our_own_library.ipynb",
      "provenance": [],
      "collapsed_sections": [],
      "toc_visible": true,
      "include_colab_link": true
    },
    "kernelspec": {
      "name": "python3",
      "display_name": "Python 3"
    }
  },
  "cells": [
    {
      "cell_type": "markdown",
      "metadata": {
        "id": "view-in-github",
        "colab_type": "text"
      },
      "source": [
        "<a href=\"https://colab.research.google.com/github/kulivixix/Edu/blob/main/Part_1_HW_Write_our_own_library.ipynb\" target=\"_parent\"><img src=\"https://colab.research.google.com/assets/colab-badge.svg\" alt=\"Open In Colab\"/></a>"
      ]
    },
    {
      "cell_type": "markdown",
      "metadata": {
        "id": "-PkQ9hSoulSP"
      },
      "source": [
        "## Домашнее задание №3. Часть 1.\n",
        "\n"
      ]
    },
    {
      "cell_type": "markdown",
      "metadata": {
        "id": "MEQd0OJnD4ut"
      },
      "source": [
        "# **Задание 1**\n",
        "\n",
        "Реализуйте следующие функции и сохраните их в библиотеку **my_math_lib.py** (пока без использования конструкции `if __name__ == \"__main__\"`)"
      ]
    },
    {
      "cell_type": "markdown",
      "metadata": {
        "id": "-irvYNmrD9FA"
      },
      "source": [
        "1. **def deg_to_rad()**. Напишите программу на Python для преобразования градусов в радианы.  *(Note: Радиан - это стандартная единица измерения угла, используемая во многих областях математики. Измерение угла в радианах численно равно длине соответствующей дуги единичного круга; один радиан чуть меньше 57,3 градуса)* **1 point**\n",
        "\n",
        "2. **def rad_to_def()**. Напишите программу Python для преобразования радианов в градусы.\n",
        "\n",
        "3. **def discriminant()**. Напишите программу на Python для вычисления значения дискриминанта (вспоминаем квадратные уравнения). Входные данные три числа: x, y, z (учтите что корни могут быть комлЕксными!)\n",
        "\n",
        "4. **def power_base_sum()**. Напишите программу на Python, чтобы вычислить сумму всех цифр основания в указанной степени.\n",
        "\n",
        "5. **def magic_square()**. Напишите программу на Python для вычисления [магического квадрата](https://ru.wikipedia.org/wiki/Магический_квадрат)\n",
        "\n",
        "6. **def mult_list()**. Напишите функцию Python для умножения всех чисел в массиве list(), (размер листа на входе произвольный)\n",
        "\n",
        "7. **def create_list()**. Напишите функцию Python для создания и вывода списка (при помощи print()), в котором значения представляют собой квадрат чисел от 1 до 30 (оба включительно)."
      ]
    },
    {
      "cell_type": "code",
      "metadata": {
        "id": "cxjYPNRAIBqe",
        "colab": {
          "base_uri": "https://localhost:8080/"
        },
        "outputId": "fd1fd1fe-e506-4845-fbad-d8836f5f16f0"
      },
      "source": [
        "%%writefile my_math_lib.py\n",
        "\n",
        "\n",
        "import sys\n",
        "import math\n",
        "import numpy as np\n",
        "\n",
        "\n",
        "#1\n",
        "def deg_to_rad(angle):\n",
        "  \"Принимаем на вход угол в градусах, выдаем угол в радианах\"\n",
        "  return angle * math.pi/180.\n",
        "\n",
        "#2\n",
        "def rad_to_deg(angle):\n",
        "  \"Принимаем на вход угол в радианах , выдаем угол в градусах\"\n",
        "  return angle * 180 / math.pi\n",
        "\n",
        "#3\n",
        "def discriminant(x, y, z):\n",
        "  \"Вычисление дискриминанта квадратного уровнения\"\n",
        "  D = y**2 - 4 * x * z\n",
        "  print(D)\n",
        "  return D\n",
        "\n",
        "#4\n",
        "def power_base_sum(base, power): \n",
        "  \"Возвращаем сумму цифр значения, полученного при возведении числа в степень\"  \n",
        "  return sum([int(i) for i in str(pow(base, power))]) \n",
        "\n",
        "#6\n",
        "def mult_list(list):\n",
        "  \"Перемножение всех чисел в списке\"\n",
        "  result = 1.0\n",
        "  for number in list:\n",
        "    result *= number\n",
        "  return result\n",
        "\n",
        "#7\n",
        "def create_list():\n",
        "  \"Вывод список с квадратами числе от 1 до 30\"\n",
        "  list_sq_1_to_30 = [i ** 2 for i in range(1,31)]\n",
        "  print(list_sq_1_to_30)\n",
        "  return list_sq_1_to_30\n"
      ],
      "execution_count": 128,
      "outputs": [
        {
          "output_type": "stream",
          "text": [
            "Overwriting my_math_lib.py\n"
          ],
          "name": "stdout"
        }
      ]
    },
    {
      "cell_type": "markdown",
      "metadata": {
        "id": "cSdLK3ZSID3B"
      },
      "source": [
        "# **Задание 2**\n",
        "Импортируйте все методы из модуля my_math_lib.\n",
        "\n",
        " **0.25 point** \n",
        " - при помощи функции **def discriminant()** посчитайте дискриминант следующего уравнения: \n",
        " $x^{2}+3 x+4=0$\n",
        "\n",
        "**0.25 point** \n",
        " - постройте магический квадрат размера 5х5"
      ]
    },
    {
      "cell_type": "code",
      "metadata": {
        "id": "k1Jhjs6FD8Sy"
      },
      "source": [
        "from my_math_lib import *"
      ],
      "execution_count": 129,
      "outputs": []
    },
    {
      "cell_type": "code",
      "metadata": {
        "id": "zjQVS7m8uj4J",
        "colab": {
          "base_uri": "https://localhost:8080/"
        },
        "outputId": "3c785520-288a-4104-cf96-ec7c87bb3dc6"
      },
      "source": [
        "discriminant(1,3,4)"
      ],
      "execution_count": 130,
      "outputs": [
        {
          "output_type": "execute_result",
          "data": {
            "text/plain": [
              "(-7+0j)"
            ]
          },
          "metadata": {
            "tags": []
          },
          "execution_count": 130
        }
      ]
    },
    {
      "cell_type": "markdown",
      "metadata": {
        "id": "1xqoQlZkId3s"
      },
      "source": [
        "# **Задание 3**\n",
        "\n",
        "**2 point**\n",
        "* Добавьте в вашу библиотеку конструкцию `if __name__ == \"__main__\"`, которая должна принимать одну из вышеперечисленных функций. \n",
        "* Важно! аргументы, подаваемые в функцию, должны подаваться напряму через терминал (как в примере)! Используйте для этого библиотеку `sys`"
      ]
    },
    {
      "cell_type": "code",
      "metadata": {
        "id": "CPMx4V4DJIVx",
        "colab": {
          "base_uri": "https://localhost:8080/"
        },
        "outputId": "7d94e55c-340f-48fd-f79b-3108123f7327"
      },
      "source": [
        "## Вариант 1: Просто перезапишем библиотеку\n",
        "\n",
        "%%writefile my_math_lib.py\n",
        "\n",
        "import sys\n",
        "import math\n",
        "\n",
        "\n",
        "#1\n",
        "def deg_to_rad(angle):\n",
        "  \"Принимаем на вход угол в градусах, выдаем угол в радианах\"\n",
        "  return angle * math.pi/180.\n",
        "\n",
        "#2\n",
        "def rad_to_deg(angle):\n",
        "  \"Принимаем на вход угол в радианах , выдаем угол в градусах\"\n",
        "  return angle * 180 / math.pi\n",
        "\n",
        "#3\n",
        "def discriminant(x, y, z):\n",
        "  \"Вычисление дискриминанта квадратного уровнения\"\n",
        "  D = y**2 - 4 * x * z\n",
        "  print(D)\n",
        "  return D\n",
        "\n",
        "#4\n",
        "def power_base_sum(base, power): \n",
        "  \"Возвращаем сумму цифр значения, полученного при возведении числа в степень\"  \n",
        "  return sum([int(i) for i in str(pow(base, power))]) \n",
        "\n",
        "#6\n",
        "def mult_list(list):\n",
        "  \"Перемножение всех чисел в списке\"\n",
        "  result = 1.0\n",
        "  for number in list:\n",
        "    result *= number\n",
        "  return result\n",
        "\n",
        "#7\n",
        "def create_list():\n",
        "  \"Вывод список с квадратами числе от 1 до 30\"\n",
        "  list_sq_1_to_30 = [i ** 2 for i in range(1,31)]\n",
        "  print(list_sq_1_to_30)\n",
        "  return list_sq_1_to_30\n",
        "\n",
        "\n",
        "if __name__ == \"__main__\":\n",
        "  discriminant(int(sys.argv[1]), int(sys.argv[2]),int(sys.argv[3]))"
      ],
      "execution_count": 85,
      "outputs": [
        {
          "output_type": "stream",
          "text": [
            "Overwriting my_math_lib.py\n"
          ],
          "name": "stdout"
        }
      ]
    },
    {
      "cell_type": "code",
      "metadata": {
        "id": "RAeJ3p1BJX05",
        "colab": {
          "base_uri": "https://localhost:8080/"
        },
        "outputId": "f440fe46-9151-4fdd-da1c-5431b57978ae"
      },
      "source": [
        "# Пример вызова функции - Вы можете вызвать любую другую\n",
        "# Например если в __main__ вы указали def discriminant()\n",
        "!python3 my_math_lib.py 3 4 5\n"
      ],
      "execution_count": 89,
      "outputs": [
        {
          "output_type": "stream",
          "text": [
            "-44\n"
          ],
          "name": "stdout"
        }
      ]
    },
    {
      "cell_type": "code",
      "metadata": {
        "id": "frg6uYDGz_T-"
      },
      "source": [
        "## Вариант 2: Добавим в файл ту же самую текстовую конструкцию через append\r\n",
        "\r\n",
        "##Откроем библетеку в режиме append\r\n",
        "file = open('my_math_lib.py', 'a')\r\n",
        "\r\n",
        "#Дозапишем недостаюую функцию\r\n",
        "file.write('''\r\n",
        "\r\n",
        "if __name__=='__main__':\r\n",
        "  discriminant(int(sys.argv[1]), int(sys.argv[2]), int(sys.argv[3]))\r\n",
        "\r\n",
        "''')\r\n",
        "file.close()"
      ],
      "execution_count": 101,
      "outputs": []
    },
    {
      "cell_type": "code",
      "metadata": {
        "colab": {
          "base_uri": "https://localhost:8080/"
        },
        "id": "6BDoUmo63do7",
        "outputId": "4eec9ead-3d0b-4a72-a5bb-ab93f2900b18"
      },
      "source": [
        "# Пример вызова функции - Вы можете вызвать любую другую\n",
        "# Например если в __main__ вы указали def discriminant()\n",
        "!python3 my_math_lib.py 3 4 5\n"
      ],
      "execution_count": 103,
      "outputs": [
        {
          "output_type": "stream",
          "text": [
            "-44\n"
          ],
          "name": "stdout"
        }
      ]
    }
  ]
}
