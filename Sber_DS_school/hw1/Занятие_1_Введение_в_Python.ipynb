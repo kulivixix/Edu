{
  "nbformat": 4,
  "nbformat_minor": 0,
  "metadata": {
    "colab": {
      "name": "Copy of Занятие 1. Введение в Python.ipynb",
      "provenance": [],
      "collapsed_sections": [],
      "include_colab_link": true
    },
    "kernelspec": {
      "name": "python3",
      "display_name": "Python 3"
    }
  },
  "cells": [
    {
      "cell_type": "markdown",
      "metadata": {
        "id": "view-in-github",
        "colab_type": "text"
      },
      "source": [
        "<a href=\"https://colab.research.google.com/github/kulivixix/Edu/blob/main/%D0%97%D0%B0%D0%BD%D1%8F%D1%82%D0%B8%D0%B5_1_%D0%92%D0%B2%D0%B5%D0%B4%D0%B5%D0%BD%D0%B8%D0%B5_%D0%B2_Python.ipynb\" target=\"_parent\"><img src=\"https://colab.research.google.com/assets/colab-badge.svg\" alt=\"Open In Colab\"/></a>"
      ]
    },
    {
      "cell_type": "markdown",
      "metadata": {
        "id": "4Wgp1FDn9oeh"
      },
      "source": [
        "## Задание 1\n",
        "\n",
        "Создайте список (list) с элементами от 1 до 10 включительно двумя разными способами:\n",
        "* при помощи list comprehensions\n",
        "* при помощи цикла for"
      ]
    },
    {
      "cell_type": "code",
      "metadata": {
        "colab": {
          "base_uri": "https://localhost:8080/"
        },
        "id": "Trw5fZtq-sKK",
        "outputId": "dca0a42b-bef0-458d-c4ce-1e3d32d1c9de"
      },
      "source": [
        "# Способ 1: list comprehension\n",
        "[i for i in range(1,11)]"
      ],
      "execution_count": null,
      "outputs": [
        {
          "output_type": "execute_result",
          "data": {
            "text/plain": [
              "[1, 2, 3, 4, 5, 6, 7, 8, 9, 10]"
            ]
          },
          "metadata": {
            "tags": []
          },
          "execution_count": 12
        }
      ]
    },
    {
      "cell_type": "code",
      "metadata": {
        "colab": {
          "base_uri": "https://localhost:8080/"
        },
        "id": "xOkEAjhIH9pp",
        "outputId": "cd1f3e90-6e29-4e44-833c-add0fa600891"
      },
      "source": [
        "# Способ 2: при помощи цикла for\n",
        "a = []\n",
        "for i in range(1,11):\n",
        "  a.append(i)\n",
        "print(a)"
      ],
      "execution_count": null,
      "outputs": [
        {
          "output_type": "stream",
          "text": [
            "[1, 2, 3, 4, 5, 6, 7, 8, 9, 10]\n"
          ],
          "name": "stdout"
        }
      ]
    },
    {
      "cell_type": "code",
      "metadata": {
        "colab": {
          "base_uri": "https://localhost:8080/"
        },
        "id": "7Kaj6ULsIUYI",
        "outputId": "cff9f728-28d3-4e61-9ff4-d993da5368b6"
      },
      "source": [
        "# Способ 3: встроенная функция range() и функция list()\n",
        "list(range(1,11))"
      ],
      "execution_count": null,
      "outputs": [
        {
          "output_type": "execute_result",
          "data": {
            "text/plain": [
              "[1, 2, 3, 4, 5, 6, 7, 8, 9, 10]"
            ]
          },
          "metadata": {
            "tags": []
          },
          "execution_count": 14
        }
      ]
    },
    {
      "cell_type": "markdown",
      "metadata": {
        "id": "WFASdcHs-HDU"
      },
      "source": [
        "## Задание 2\n",
        "\n",
        "Создайте список (list) с **четными** элементами из промежутка от 1 до 10 включительно двумя разными способами:\n",
        "* при помощи list comprehensions\n",
        "* при помощи цикла for"
      ]
    },
    {
      "cell_type": "code",
      "metadata": {
        "colab": {
          "base_uri": "https://localhost:8080/"
        },
        "id": "DAB9tzx6lGg_",
        "outputId": "373b5981-0f13-471b-90ac-eff48b14d73e"
      },
      "source": [
        "#Способ 1: при помощи list comprehensions\n",
        "[i for i in range(1,11) if i % 2 == 0]"
      ],
      "execution_count": null,
      "outputs": [
        {
          "output_type": "execute_result",
          "data": {
            "text/plain": [
              "[2, 4, 6, 8, 10]"
            ]
          },
          "metadata": {
            "tags": []
          },
          "execution_count": 31
        }
      ]
    },
    {
      "cell_type": "code",
      "metadata": {
        "colab": {
          "base_uri": "https://localhost:8080/"
        },
        "id": "6Qio1EPELL9o",
        "outputId": "e9f63d66-9b24-433d-cbab-2eed525c5d12"
      },
      "source": [
        "#Способ 2: при помощи цикла for\n",
        "even_list = []\n",
        "for i in range(1,11):\n",
        "  if i % 2 == 0:\n",
        "    even_list.append(i)\n",
        "\n",
        "print(even_list)"
      ],
      "execution_count": null,
      "outputs": [
        {
          "output_type": "stream",
          "text": [
            "[2, 4, 6, 8, 10]\n"
          ],
          "name": "stdout"
        }
      ]
    },
    {
      "cell_type": "markdown",
      "metadata": {
        "id": "ART_Rcf8_D1Q"
      },
      "source": [
        "## Задание 3\n",
        "присвойте переменной **x** следующее значение:\n",
        "$$\n",
        "x=100^{3^{2}}-\\frac{10^{3}}{5^{2}}\n",
        "$$\n",
        "Выведите, чему теперь равна переменная **x**"
      ]
    },
    {
      "cell_type": "code",
      "metadata": {
        "colab": {
          "base_uri": "https://localhost:8080/"
        },
        "id": "E3T9BpesL08g",
        "outputId": "01217353-6cc8-4a6b-e2ac-1bfa6b08bd1e"
      },
      "source": [
        "# В colab вычисление не получается с большей точностью\n",
        "import numpy as np\n",
        "\n",
        "# Попытка реализовать с помощью функции\n",
        "x1 = pow(100,pow(3,2)) - pow(10,3) / pow(5,2)\n",
        "print(f'{x1:.1f}')\n",
        "\n",
        "# Попытка реализовать с помощью стандартных операторов\n",
        "x2 = (100 ** 3 ** 2) - (10**3 / 5**2)\n",
        "print(f'{x2:.1f}')\n",
        "\n",
        "# Попытка преобразования в numpy float64\n",
        "x3 = np.float64(x2)\n",
        "print(f'{x3:.1f}')\n"
      ],
      "execution_count": 90,
      "outputs": [
        {
          "output_type": "stream",
          "text": [
            "1000000000000000000.0\n",
            "1000000000000000000.0\n",
            "1000000000000000000.0\n"
          ],
          "name": "stdout"
        }
      ]
    },
    {
      "cell_type": "markdown",
      "metadata": {
        "id": "JUkk796pANdG"
      },
      "source": [
        "## Задание 4\n",
        "\n",
        "Найдите, истинно ли, что 3 в 15 степени больше 3000 при условии, что 3 в 7й степени меньше 7 в 5й."
      ]
    },
    {
      "cell_type": "code",
      "metadata": {
        "colab": {
          "base_uri": "https://localhost:8080/"
        },
        "id": "1d68HG4SAg3t",
        "outputId": "76b63901-d7eb-480c-a68d-879145862f8f"
      },
      "source": [
        "#Ваше решение тут\n",
        "\n",
        "3**15 > 3000 and 3**7 < 7**5\n"
      ],
      "execution_count": null,
      "outputs": [
        {
          "output_type": "execute_result",
          "data": {
            "text/plain": [
              "True"
            ]
          },
          "metadata": {
            "tags": []
          },
          "execution_count": 91
        }
      ]
    },
    {
      "cell_type": "markdown",
      "metadata": {
        "id": "fIJhD6MSA7Sm"
      },
      "source": [
        "## Задание 5\n",
        "Мы принимаем целое число на ввод с клавиатуры (код предоставлен), вывести \"цена выше рынка\", если число выше 1200, \"цена ниже рыночной\", если число меньше 800 и \"все ок\" в остальных случаях."
      ]
    },
    {
      "cell_type": "code",
      "metadata": {
        "colab": {
          "base_uri": "https://localhost:8080/"
        },
        "id": "Z785bvZhAJHy",
        "outputId": "915b2c77-e3ff-4435-9924-fa66c0995dde"
      },
      "source": [
        "price = int(input('Введите цену товара: '))\n",
        "\n",
        "if price > 1200:\n",
        "  print('цена выше рынка')\n",
        "elif price < 800:\n",
        "  print('цена ниже рыночной')\n",
        "else:\n",
        "  print('все ок')"
      ],
      "execution_count": null,
      "outputs": [
        {
          "output_type": "stream",
          "text": [
            "Введите цену товара: 900\n",
            "все ок\n"
          ],
          "name": "stdout"
        }
      ]
    },
    {
      "cell_type": "markdown",
      "metadata": {
        "id": "t-FCWwCmBNjV"
      },
      "source": [
        "## Задание 6\n",
        "\n",
        "Даны два словаря: dictionary_1 = {'price_1': 300, 'price_2': 400} и dictionary_2 = {'price_1': 500, 'price_3': 600}. Объедините их в один при помощи встроенных функций языка Python (методов объекта dict)."
      ]
    },
    {
      "cell_type": "code",
      "metadata": {
        "colab": {
          "base_uri": "https://localhost:8080/"
        },
        "id": "M64tMdg3BGI-",
        "outputId": "b545232f-e019-45b7-d92d-f5aa85834dc5"
      },
      "source": [
        "#Ваше решение тут\n",
        "dictionary_0 = {}\n",
        "dictionary_1 = {'price_1': 300, 'price_2': 400}\n",
        "dictionary_2 = {'price_1': 500, 'price_3': 600}\n",
        "\n",
        "dictionary_0.update(dictionary_1)\n",
        "dictionary_0.update(dictionary_2)\n",
        "dictionary_0"
      ],
      "execution_count": null,
      "outputs": [
        {
          "output_type": "execute_result",
          "data": {
            "text/plain": [
              "{'price_1': 500, 'price_2': 400, 'price_3': 600}"
            ]
          },
          "metadata": {
            "tags": []
          },
          "execution_count": 103
        }
      ]
    },
    {
      "cell_type": "markdown",
      "metadata": {
        "id": "VYrTaYnpDv3e"
      },
      "source": [
        "## Задание 7\n",
        "Сравните время, затраченное на вычисление частного списков list со значениями от 1 до 10^6 и время, затраченное на вычисление частного массивов типа numpy arrays со значениями от 1 до 10^6 (см. пункт \" Numpy array vs Python list\" в этом ноутбуке)\n",
        "\n",
        "*Подсказка! для генерации list используйте функцию range(), для генерации numpy array - np.arange()*"
      ]
    },
    {
      "cell_type": "code",
      "metadata": {
        "colab": {
          "base_uri": "https://localhost:8080/"
        },
        "id": "Ujh0N0ZvCvfe",
        "outputId": "bbc7a192-5538-4800-f14b-c3992a9c92a4"
      },
      "source": [
        "#Ваше решение тут\n",
        "# Импорт библиотек numpy и time\n",
        "import numpy as np\n",
        "import time \n",
        "   \n",
        "# Задание переменной для хранения размерности массивов\n",
        "size = 10**6\n",
        "   \n",
        "# создадим списки типа list от 1 до size\n",
        "list1 = range(1,size)\n",
        "list2 = range(1,size) \n",
        "   \n",
        "# создадим массивы типа Numpy array от 1 до size\n",
        "array1 = np.arange(1, size)   \n",
        "array2 = np.arange(1, size) \n",
        "\n",
        "print(\"\\n Частное массивов :\")\n",
        "\n",
        "# Включим счетчик времени перед делением\n",
        "initialTime = time.time() \n",
        "  \n",
        "# разделим элементы списков типа list\n",
        "resultantList = [(a / b) for a, b in zip(list1, list2)] \n",
        "   \n",
        "# посчитаем затраченное время\n",
        "print(\"Время затраченное на частное списков типа list:\",  \n",
        "      (time.time() - initialTime), \n",
        "      \"секунд\") \n",
        "   \n",
        "# Включим счетчик времени перед делением\n",
        "initialTime = time.time() \n",
        "  \n",
        "# разделим элементы массивов типа Numpy array\n",
        "resultantArray = array1 / array2 \n",
        "   \n",
        "# посчитаем затраченное время\n",
        "print(\"Время затраченное на частное массивов типа ndarray:\", \n",
        "      (time.time() - initialTime), \n",
        "      \"секунд\") "
      ],
      "execution_count": null,
      "outputs": [
        {
          "output_type": "stream",
          "text": [
            "\n",
            " Частное массивов :\n",
            "Время затраченное на частное списков типа list: 0.14651274681091309 секунд\n",
            "Время затраченное на частное массивов типа ndarray: 0.00559687614440918 секунд\n"
          ],
          "name": "stdout"
        }
      ]
    },
    {
      "cell_type": "markdown",
      "metadata": {
        "id": "rw7v8PGlFeKj"
      },
      "source": [
        "## Задание 8\n",
        "\n",
        "Напишите цикл, который выводит все числа от 0 до 500, делящиеся на 7, если в них есть цифра 8.\n",
        "Подсказка: переменную типа int можно привести к типу str:\n",
        "```\n",
        "x = 5\n",
        "y = str(x)\n",
        "```"
      ]
    },
    {
      "cell_type": "code",
      "metadata": {
        "colab": {
          "base_uri": "https://localhost:8080/"
        },
        "id": "EODLU28PYJ9V",
        "outputId": "22fd61ee-bf7b-45d0-b364-2446effc9c47"
      },
      "source": [
        "[x for x in range (0,501) if ((x % 7 == 0) and ('8' in str(x))) == True]"
      ],
      "execution_count": null,
      "outputs": [
        {
          "output_type": "execute_result",
          "data": {
            "text/plain": [
              "[28, 84, 98, 168, 182, 189, 238, 280, 287, 308, 378, 385, 448, 483]"
            ]
          },
          "metadata": {
            "tags": []
          },
          "execution_count": 115
        }
      ]
    },
    {
      "cell_type": "markdown",
      "metadata": {
        "id": "ORiF3smuGPSU"
      },
      "source": [
        "## Задание 9\n",
        "Дан массив строк mas. Одной строкой создайте словарь, в котором по ключу строки будет записана пара (кортеж длины 2) (индекс строки в массиве mas, длина строки)"
      ]
    },
    {
      "cell_type": "code",
      "metadata": {
        "colab": {
          "base_uri": "https://localhost:8080/"
        },
        "id": "1j0s1jI3Z4Le",
        "outputId": "3ae0273e-e64f-439c-faad-9f0d0c0dce50"
      },
      "source": [
        "mas = ['abc', 'def', 'hello', 'world']\n",
        "dic = { elmnt: (index, len(elmnt)) for index, elmnt in enumerate(mas) }\n",
        "print(dic)"
      ],
      "execution_count": 86,
      "outputs": [
        {
          "output_type": "stream",
          "text": [
            "{'abc': (0, 3), 'def': (1, 3), 'hello': (2, 5), 'world': (3, 5)}\n"
          ],
          "name": "stdout"
        }
      ]
    },
    {
      "cell_type": "markdown",
      "metadata": {
        "id": "JOfOYKkNHMPy"
      },
      "source": [
        "## Задание 10\n",
        "Реализовать функцию, которая сохраняет в 2 глобальные переменные:\n",
        "сумму всех позиционных аргументов - релизовать через lambda;\n",
        "название всех именованных аргументов в виде списка."
      ]
    },
    {
      "cell_type": "code",
      "metadata": {
        "colab": {
          "base_uri": "https://localhost:8080/"
        },
        "id": "3xg8ELhdTb12",
        "outputId": "f1dff3fa-5b9e-488c-9d7d-371642b96345"
      },
      "source": [
        "summ = 0\n",
        "names = []\n",
        "#Ваше решение тут\n",
        "\n",
        "another_func(1, 2, 3, a=4, b=5)\n",
        "\n",
        "print(f'Cумма {summ}, названия {names}')"
      ],
      "execution_count": null,
      "outputs": [
        {
          "output_type": "stream",
          "text": [
            "Сумма 6 , названия ['a', 'b']\n"
          ],
          "name": "stdout"
        }
      ]
    },
    {
      "cell_type": "code",
      "metadata": {
        "id": "QwGPyMRfbpBc",
        "colab": {
          "base_uri": "https://localhost:8080/"
        },
        "outputId": "5b807af4-391a-4992-e5a4-ee0b600028d4"
      },
      "source": [
        "summ = 0\n",
        "names = []\n",
        "\n",
        "def another_func(*args, **kwargs):\n",
        "    global summ\n",
        "    global names\n",
        "    func_args_sum = lambda x: sum(x)\n",
        "    summ = func_args_sum(args)\n",
        "    func_kwargs_list = lambda x: list(kwargs)\n",
        "    names = func_kwargs_list(kwargs)\n",
        "    return summ, names\n",
        "\n",
        "\n",
        "another_func(1, 2, 3, a=4, b=5)\n",
        "\n",
        "print(f'Cумма {summ}, названия {names}')\n",
        "\n"
      ],
      "execution_count": 98,
      "outputs": [
        {
          "output_type": "stream",
          "text": [
            "Cумма 6, названия ['a', 'b']\n"
          ],
          "name": "stdout"
        }
      ]
    }
  ]
}
