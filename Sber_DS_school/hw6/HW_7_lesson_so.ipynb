{
  "nbformat": 4,
  "nbformat_minor": 0,
  "metadata": {
    "colab": {
      "name": "HW_7_lesson_so",
      "provenance": [],
      "collapsed_sections": [],
      "include_colab_link": true
    },
    "kernelspec": {
      "name": "python3",
      "display_name": "Python 3"
    }
  },
  "cells": [
    {
      "cell_type": "markdown",
      "metadata": {
        "id": "view-in-github",
        "colab_type": "text"
      },
      "source": [
        "<a href=\"https://colab.research.google.com/drive/1Hya1fDgRKdMJt-JJRmgCvR9ntp-nYE7W?usp=sharing\" target=\"_parent\"><img src=\"https://colab.research.google.com/assets/colab-badge.svg\" alt=\"Open In Colab\"/></a>"
      ]
    },
    {
      "cell_type": "markdown",
      "metadata": {
        "id": "PDkG3Bis38V_"
      },
      "source": [
        "# Домашнее задание к 7 уроку.\n"
      ]
    },
    {
      "cell_type": "markdown",
      "metadata": {
        "id": "oOoLPT-d232H"
      },
      "source": [
        "**1.** Прочитать статью http://www.scielo.org.mx/pdf/cys/v18n3/v18n3a7.pdf и сделать следующее:\n",
        "\n",
        "- Написать кратко (не более 300 слов (минимум 100), отчет в формате pdf) о различиях между cosine similarity и soft similarity. Привести примеры использования и написать собственный пример вычисления cosine similarity и soft similarity для произвольных векторов (не брать вектора из статьи! надо самим придумать координаты/размерность векторов)"
      ]
    },
    {
      "cell_type": "markdown",
      "metadata": {
        "id": "s88RsDuvrCWm"
      },
      "source": [
        "TODO"
      ]
    },
    {
      "cell_type": "markdown",
      "metadata": {
        "id": "2A79cNRu3BUA"
      },
      "source": [
        "__2.__ Найти сумму и произведение матриц $A=\\begin{pmatrix}\n",
        "1 & -2\\\\ \n",
        "3 & 0\n",
        "\\end{pmatrix}$ и $B=\\begin{pmatrix}\n",
        "4 & -1\\\\ \n",
        "0 & 5\n",
        "\\end{pmatrix}.$\n",
        "\n"
      ]
    },
    {
      "cell_type": "code",
      "metadata": {
        "id": "CxB8k25tjLhC"
      },
      "source": [
        "import numpy as np"
      ],
      "execution_count": null,
      "outputs": []
    },
    {
      "cell_type": "code",
      "metadata": {
        "colab": {
          "base_uri": "https://localhost:8080/"
        },
        "id": "h0SqgggWX47s",
        "outputId": "131a4f81-9db1-45f3-aed9-24bb2dc9ea3c"
      },
      "source": [
        "A = np.array([\r\n",
        "              [1,-2],\r\n",
        "              [3,0]\r\n",
        "              ])\r\n",
        "B = np.array([\r\n",
        "              [4,-1],\r\n",
        "              [0,5]\r\n",
        "              ])\r\n",
        "print ('Сумма матриц А и В')\r\n",
        "print(A + B)\r\n",
        "print()\r\n",
        "print ('Произведение матриц А и В')\r\n",
        "print(A @ B)"
      ],
      "execution_count": null,
      "outputs": [
        {
          "output_type": "stream",
          "text": [
            "Сумма матриц А и В\n",
            "[[ 5 -3]\n",
            " [ 3  5]]\n",
            "\n",
            "Произведение матриц А и В\n",
            "[[  4 -11]\n",
            " [ 12  -3]]\n"
          ],
          "name": "stdout"
        }
      ]
    },
    {
      "cell_type": "markdown",
      "metadata": {
        "id": "WShOML0umtsQ"
      },
      "source": [
        "\r\n",
        "\r\n",
        "---\r\n",
        "Графическое решение\r\n",
        "\r\n",
        "1)\r\n",
        "$\r\n",
        "\\left(\r\n",
        "\\begin{array}{cccc}\r\n",
        "{1} & {-2} \\\\\r\n",
        "{3} & {0} \r\n",
        "\\end{array}\r\n",
        "\\right) + \\left(\r\n",
        "\\begin{array}{cccc}\r\n",
        "{4} & {-1} \\\\\r\n",
        "{0} & {5} \r\n",
        "\\end{array}\r\n",
        "\\right) = \\left(\r\n",
        "\\begin{array}{cccc}\r\n",
        "{5} & {-3} \\\\\r\n",
        "{3} & {5} \r\n",
        "\\end{array}\r\n",
        "\\right)\r\n",
        "$\r\n",
        "\r\n",
        "2)\r\n",
        "$\\left(\r\n",
        "\\begin{array}{cccc}\r\n",
        "{1} & {-2} \\\\\r\n",
        "{3} & {0} \r\n",
        "\\end{array}\r\n",
        "\\right) * \\left(\r\n",
        "\\begin{array}{cccc}\r\n",
        "{4} & {-1} \\\\\r\n",
        "{0} & {5} \r\n",
        "\\end{array}\r\n",
        "\\right) = \\left(\r\n",
        "\\begin{array}{cccc}\r\n",
        "{1*4 + (-2)*0} & {1*(-1) + (-2)*5} \\\\\r\n",
        "{3*4 + 0*0} & {3*(-1) + 0*5} \r\n",
        "\\end{array}\r\n",
        "\\right)=\\left(\r\n",
        "\\begin{array}{cccc}\r\n",
        "{4} & {-11} \\\\\r\n",
        "{12} & {-3} \r\n",
        "\\end{array}\r\n",
        "\\right) $\r\n"
      ]
    },
    {
      "cell_type": "markdown",
      "metadata": {
        "id": "x-AWw6L-X5q0"
      },
      "source": [
        "__3.__ Из закономерностей сложения и умножения матриц на число можно сделать вывод, что матрицы одного размера образуют линейное пространство. Вычислить линейную комбинацию $3A-2B+4C$ для матриц $A=\\begin{pmatrix}\r\n",
        "1 & 7\\\\ \r\n",
        "3 & -6\r\n",
        "\\end{pmatrix}$, $B=\\begin{pmatrix}\r\n",
        "0 & 5\\\\ \r\n",
        "2 & -1\r\n",
        "\\end{pmatrix}$, $C=\\begin{pmatrix}\r\n",
        "2 & -4\\\\ \r\n",
        "1 & 1\r\n",
        "\\end{pmatrix}.$\r\n"
      ]
    },
    {
      "cell_type": "code",
      "metadata": {
        "colab": {
          "base_uri": "https://localhost:8080/"
        },
        "id": "K4Ud5UiBX-tU",
        "outputId": "dbb3a38b-6507-4118-a8bd-c957349df848"
      },
      "source": [
        "A = np.array([\r\n",
        "              [1,7],\r\n",
        "              [3,-6]\r\n",
        "              ])\r\n",
        "B = np.array([\r\n",
        "              [0,5],\r\n",
        "              [2,-1]\r\n",
        "              ])\r\n",
        "C = np.array([\r\n",
        "              [2,-4],\r\n",
        "              [1,1]\r\n",
        "              ])\r\n",
        "print('Результат выражения 3*A - 2*B + 4*C')\r\n",
        "print(3*A - 2*B + 4*C)"
      ],
      "execution_count": null,
      "outputs": [
        {
          "output_type": "stream",
          "text": [
            "Результат выражения 3*A - 2*B + 4*C\n",
            "[[ 11  -5]\n",
            " [  9 -12]]\n"
          ],
          "name": "stdout"
        }
      ]
    },
    {
      "cell_type": "markdown",
      "metadata": {
        "id": "ECm88yYgnpRy"
      },
      "source": [
        "\r\n",
        "---\r\n",
        "Графическое решение\r\n",
        "\r\n",
        "\r\n",
        "$3A - 2B + 4C =\r\n",
        "\\begin{pmatrix}\r\n",
        "3 & 21\\\\ \r\n",
        "9 & -18\\\\ \r\n",
        "\\end{pmatrix}\r\n",
        "$-$\\begin{pmatrix}\r\n",
        "0 & 10\\\\ \r\n",
        "4 & -2\\\\ \r\n",
        "\\end{pmatrix}\r\n",
        "$+$\\begin{pmatrix}\r\n",
        "8 & -16\\\\ \r\n",
        "4 & 4\\\\ \r\n",
        "\\end{pmatrix}$=$\\begin{pmatrix}\r\n",
        "(3+0+8) & (21 - 10 -16)\\\\ \r\n",
        "(9-4-4) & (-18 + 2 + 4)\\\\ \r\n",
        "\\end{pmatrix}$=$\\begin{pmatrix}\r\n",
        "11 & -5\\\\ \r\n",
        "9 & -12\\\\ \r\n",
        "\\end{pmatrix}$\r\n"
      ]
    },
    {
      "cell_type": "markdown",
      "metadata": {
        "id": "4eBv80k4X_KU"
      },
      "source": [
        "__4.__ Дана матрица $A=\\begin{pmatrix}\r\n",
        "4 & 1\\\\ \r\n",
        "5 & -2\\\\ \r\n",
        "2 & 3\r\n",
        "\\end{pmatrix}$.\r\n",
        "Вычислить $AA^{T}$ и $A^{T}A$.\r\n"
      ]
    },
    {
      "cell_type": "code",
      "metadata": {
        "colab": {
          "base_uri": "https://localhost:8080/"
        },
        "id": "nE3y3S0_YAyw",
        "outputId": "66cf733d-7dc4-48f5-8018-d11eb862ace6"
      },
      "source": [
        "A  = np.array([\r\n",
        "               [4,1], \r\n",
        "               [5,-2], \r\n",
        "               [2,3]\r\n",
        "               ])\r\n",
        "AT = A.transpose()\r\n",
        "print(\"A * AT\")\r\n",
        "print(np.dot(A, AT))\r\n",
        "print()\r\n",
        "print('AT * A')\r\n",
        "print(AT @ A) "
      ],
      "execution_count": null,
      "outputs": [
        {
          "output_type": "stream",
          "text": [
            "A * AT\n",
            "[[17 18 11]\n",
            " [18 29  4]\n",
            " [11  4 13]]\n",
            "\n",
            "AT * A\n",
            "[[45  0]\n",
            " [ 0 14]]\n"
          ],
          "name": "stdout"
        }
      ]
    },
    {
      "cell_type": "markdown",
      "metadata": {
        "id": "WOb2Wqarpq9H"
      },
      "source": [
        "\r\n",
        "---\r\n",
        "Графичское решение\r\n",
        "\r\n",
        "$ AA^{T} = \\left(\r\n",
        "\\begin{array}{cccc}\r\n",
        "{4} & {1} \\\\\r\n",
        "{5} & {-2} \\\\\r\n",
        "{2} & {3}\r\n",
        "\\end{array}\r\n",
        "\\right) * \\left(\r\n",
        "\\begin{array}{cccc}\r\n",
        "{4} & {5} & {2}\\\\\r\n",
        "{1} & {-2} & {3}\r\n",
        "\\end{array}\r\n",
        "\\right)= \\left(\r\n",
        "\\begin{array}{cccc}\r\n",
        "{4^2+1^2} & {4*5+1*-2} & {4*2+1*3} \\\\\r\n",
        "{5*4-2*1} & {5^2-2^2} &{5*2+-2*3} \\\\\r\n",
        "{2*4+3*1} & {2*5+3*-2} & {2^2+3^3}  \r\n",
        "\\end{array}\r\n",
        "\\right)= \\left(\r\n",
        "\\begin{array}{cccc}\r\n",
        "{17} & {18} & {11} \\\\\r\n",
        "{18} & {29} &{4} \\\\\r\n",
        "{11} & {4} & {31}  \r\n",
        "\\end{array}\r\n",
        "\\right)$\r\n"
      ]
    },
    {
      "cell_type": "markdown",
      "metadata": {
        "id": "ho3M1EQMqTGL"
      },
      "source": [
        "$\r\n",
        "A^{T}A= \\left(\r\n",
        "\\begin{array}{cccc}\r\n",
        "{4} & {5} & {2}\\\\\r\n",
        "{1} & {-2} & {3}\r\n",
        "\\end{array}\r\n",
        "\\right) *\\left(\r\n",
        "\\begin{array}{cccc}\r\n",
        "{4} & {1} \\\\\r\n",
        "{5} & {-2} \\\\\r\n",
        "{2} & {3}\r\n",
        "\\end{array}\r\n",
        "\\right)= \\left(\r\n",
        "\\begin{array}{cccc}\r\n",
        "{4^2+5^5+2^2} & {4*1+5*-2+2*3}\\\\\r\n",
        "{1*4-2*5+3*2} & {1^1-2^2+3^2}\r\n",
        "\\end{array}\r\n",
        "\\right) = \\left(\r\n",
        "\\begin{array}{cccc}\r\n",
        "{45} & {0}\\\\\r\n",
        "{0} & {14}\r\n",
        "\\end{array}\r\n",
        "\\right) $"
      ]
    },
    {
      "cell_type": "markdown",
      "metadata": {
        "id": "q8qwKGo3YBku"
      },
      "source": [
        "\r\n",
        "__5*.__ Написать на Python функцию для перемножения двух произвольных матриц, не используя NumPy."
      ]
    },
    {
      "cell_type": "code",
      "metadata": {
        "id": "PFQyZV2UYCMT"
      },
      "source": [
        "def matrix_multiply(m1, m2):\r\n",
        "  r = []\r\n",
        "  m = []\r\n",
        "  for i in range(len(m1)):\r\n",
        "      for j in range(len(m2[0])):\r\n",
        "          sums = 0\r\n",
        "          for k in range(len(m2)):\r\n",
        "              sums = sums + (m1[i][k] * m2[k][j])\r\n",
        "          r.append(sums)\r\n",
        "      m.append(r)\r\n",
        "      r = []\r\n",
        "  return m "
      ],
      "execution_count": null,
      "outputs": []
    },
    {
      "cell_type": "code",
      "metadata": {
        "colab": {
          "base_uri": "https://localhost:8080/"
        },
        "id": "CCXUbEZkkVLt",
        "outputId": "7121e26a-942d-488e-f2f6-46a4a4643d4b"
      },
      "source": [
        "#Проверка\r\n",
        "m1 = [[1, -2], [3, 0]]\r\n",
        "m2 = [[4, -1], [0, 5]]\r\n",
        "print(matrix_multiply(m1, m2))"
      ],
      "execution_count": null,
      "outputs": [
        {
          "output_type": "stream",
          "text": [
            "[[4, -11], [12, -3]]\n"
          ],
          "name": "stdout"
        }
      ]
    },
    {
      "cell_type": "markdown",
      "metadata": {
        "id": "-naSOZaf3L7s"
      },
      "source": [
        "\n",
        "__6.__ Вычислить определитель (используйте любой удобный для вас способ вычисления определителя: через миноры, через перестановки или другой):\n",
        "\n",
        "   a)\n",
        "\n",
        "$$\\begin{vmatrix}\n",
        "sinx & -cosx\\\\ \n",
        "cosx & sinx\n",
        "\\end{vmatrix};$$\n",
        "\n",
        "\n",
        "\n"
      ]
    },
    {
      "cell_type": "markdown",
      "metadata": {
        "id": "a-HPqqd4cw_g"
      },
      "source": [
        "$ det = sinx * sinx -(-cosx) * cosx = 1 $ "
      ]
    },
    {
      "cell_type": "markdown",
      "metadata": {
        "id": "T5w_ZWdjco8E"
      },
      "source": [
        "   б)\r\n",
        "    \r\n",
        "$$\\begin{vmatrix}\r\n",
        "8 & 4 & 6\\\\ \r\n",
        "0 & 5 & 1\\\\ \r\n",
        "0 & 0 & 9\r\n",
        "\\end{vmatrix};$$\r\n",
        "    \r\n"
      ]
    },
    {
      "cell_type": "markdown",
      "metadata": {
        "id": "79kvT1A2ctly"
      },
      "source": [
        "$ det = (8*5*9) + (0*4*1) + (0*0*6) - (0*5*6) - (8*0*1) - ( 0*5*9) = 360$"
      ]
    },
    {
      "cell_type": "markdown",
      "metadata": {
        "id": "DK7wM-5bcqXH"
      },
      "source": [
        "   в)\r\n",
        "\r\n",
        "$$\\begin{vmatrix}\r\n",
        "2 & 3 & 4\\\\ \r\n",
        "5 & 6 & 7\\\\ \r\n",
        "8 & 9 & 10\r\n",
        "\\end{vmatrix}.$$"
      ]
    },
    {
      "cell_type": "markdown",
      "metadata": {
        "id": "HJMTgXXLcudf"
      },
      "source": [
        "$\r\n",
        "det = (2*6*10) + (8*3*7) + (5*9*4)- (8*6*4) - (2*9*7) - (5*3*10) = 0\r\n",
        "$"
      ]
    },
    {
      "cell_type": "markdown",
      "metadata": {
        "id": "bZaPl9NKbNlb"
      },
      "source": [
        "\r\n",
        "__7.__ Определитель матрицы $A$ равен $4$. Найти:\r\n",
        "\r\n",
        "   а) $det(A^{2})$;\r\n",
        "    \r\n",
        "   б) $det(A^{T})$;\r\n",
        "    \r\n",
        "   в) $det(2A)$.\r\n",
        "   \r\n"
      ]
    },
    {
      "cell_type": "markdown",
      "metadata": {
        "id": "zjG8xw9ed9uk"
      },
      "source": [
        " \r\n",
        "\r\n",
        "---\r\n",
        "\r\n",
        "---\r\n",
        "\r\n",
        "\r\n",
        "\r\n",
        "\r\n",
        "а) $det(A^{2})= 4*4 =16$;\r\n",
        "    \r\n",
        "б) $det(A^{T})= 4$;\r\n",
        "    \r\n",
        "в) $det(2A)=8$."
      ]
    },
    {
      "cell_type": "markdown",
      "metadata": {
        "id": "wHqTedkibPOv"
      },
      "source": [
        "__8.__  Доказать, что матрица\r\n",
        "\r\n",
        "$$\\begin{pmatrix}\r\n",
        "-2 & 7 & -3\\\\ \r\n",
        "4 & -14 & 6\\\\ \r\n",
        "-3 & 7 & 13\r\n",
        "\\end{pmatrix}$$\r\n",
        "   \r\n",
        "вырожденная.\r\n",
        "\r\n"
      ]
    },
    {
      "cell_type": "markdown",
      "metadata": {
        "id": "NL7LTuHtea3o"
      },
      "source": [
        "$ det = (-2 * -14 * 13) + \r\n",
        "(-3 * 7* 6) + \r\n",
        "(4 * 7 * -3) -\r\n",
        "(-3 * -14 * -3) - \r\n",
        "(-2 * 7 * 6) - \r\n",
        "( 4 * 7 * 13)\r\n",
        "= 0 \r\n",
        "$"
      ]
    },
    {
      "cell_type": "markdown",
      "metadata": {
        "id": "r19XQ0c9fPbK"
      },
      "source": [
        "**Так как определитель матрицы = 0, значит матрица является вырожденной**"
      ]
    },
    {
      "cell_type": "markdown",
      "metadata": {
        "id": "LkPo1QpxbQ_5"
      },
      "source": [
        "__9.__ Найти ранг матрицы:\r\n",
        "\r\n",
        "   а) $\\begin{pmatrix}\r\n",
        "1 & 2 & 3\\\\ \r\n",
        "1 & 1 & 1\\\\ \r\n",
        "2 & 3 & 4\r\n",
        "\\end{pmatrix};$\r\n"
      ]
    },
    {
      "cell_type": "code",
      "metadata": {
        "colab": {
          "base_uri": "https://localhost:8080/"
        },
        "id": "vQN_ZCEMbSla",
        "outputId": "917a309b-56de-4ccb-9204-92992f10b546"
      },
      "source": [
        "a = np.array([\r\n",
        "              [1, 2, 3],\r\n",
        "              [1, 1, 1],\r\n",
        "              [2, 3, 4]\r\n",
        "              ])\r\n",
        "\r\n",
        "rank_a = np.linalg.matrix_rank(a)\r\n",
        "\r\n",
        "print(f'Ранг матрицы а) : {rank_a}')"
      ],
      "execution_count": null,
      "outputs": [
        {
          "output_type": "stream",
          "text": [
            "Ранг матрицы а) : 2\n"
          ],
          "name": "stdout"
        }
      ]
    },
    {
      "cell_type": "markdown",
      "metadata": {
        "id": "KyADPZ1th8FY"
      },
      "source": [
        "   б) $\\begin{pmatrix}\r\n",
        "0 & 0 & 2 & 1\\\\ \r\n",
        "0 & 0 & 2 & 2\\\\ \r\n",
        "0 & 0 & 4 & 3\\\\ \r\n",
        "2 & 3 & 5 & 6\r\n",
        "\\end{pmatrix}.$"
      ]
    },
    {
      "cell_type": "code",
      "metadata": {
        "colab": {
          "base_uri": "https://localhost:8080/"
        },
        "id": "ydi4Cdsih-6Y",
        "outputId": "99b8cf6a-a5e2-452b-c607-5d21b2737578"
      },
      "source": [
        "b = np.array([\r\n",
        "              [0,0,2,1],\r\n",
        "              [0,0,2,2],\r\n",
        "              [0,0,4,3],\r\n",
        "              [2,3,5,6]\r\n",
        "              ])\r\n",
        "rank_b = np.linalg.matrix_rank(b)\r\n",
        "print(f'Ранг матрицы б) : {rank_b}')\r\n"
      ],
      "execution_count": null,
      "outputs": [
        {
          "output_type": "stream",
          "text": [
            "Ранг матрицы б) : 3\n"
          ],
          "name": "stdout"
        }
      ]
    },
    {
      "cell_type": "code",
      "metadata": {
        "id": "cCvOTN-pq282"
      },
      "source": [
        ""
      ],
      "execution_count": null,
      "outputs": []
    }
  ]
}
