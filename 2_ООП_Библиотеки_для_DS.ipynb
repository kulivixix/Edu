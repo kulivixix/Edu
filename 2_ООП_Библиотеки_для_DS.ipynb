{
  "nbformat": 4,
  "nbformat_minor": 0,
  "metadata": {
    "colab": {
      "name": "2: ООП. Библиотеки для DS.ipynb",
      "provenance": [],
      "collapsed_sections": [],
      "include_colab_link": true
    },
    "kernelspec": {
      "name": "python3",
      "display_name": "Python 3"
    }
  },
  "cells": [
    {
      "cell_type": "markdown",
      "metadata": {
        "id": "view-in-github",
        "colab_type": "text"
      },
      "source": [
        "<a href=\"https://colab.research.google.com/github/kulivixix/Edu/blob/main/2_%D0%9E%D0%9E%D0%9F_%D0%91%D0%B8%D0%B1%D0%BB%D0%B8%D0%BE%D1%82%D0%B5%D0%BA%D0%B8_%D0%B4%D0%BB%D1%8F_DS.ipynb\" target=\"_parent\"><img src=\"https://colab.research.google.com/assets/colab-badge.svg\" alt=\"Open In Colab\"/></a>"
      ]
    },
    {
      "cell_type": "markdown",
      "metadata": {
        "id": "V-JZNegPdrB9"
      },
      "source": [
        "# Занятие 2. ООП. Библиотеки для DS\n"
      ]
    },
    {
      "cell_type": "code",
      "metadata": {
        "id": "D-Lc19J4WL-3"
      },
      "source": [
        "# загрузим библиотеки\n",
        "import numpy as np\n",
        "import pandas as pd"
      ],
      "execution_count": null,
      "outputs": []
    },
    {
      "cell_type": "markdown",
      "metadata": {
        "id": "ZYcKnimkFRrD"
      },
      "source": [
        "## Задание 1\n",
        "\n",
        "Создайте массив массив из 100 элементов (от 1 до 100), переформатируйте в формат (10 * 10), сделайте слайсинг с шагом 2 по каждой оси."
      ]
    },
    {
      "cell_type": "code",
      "metadata": {
        "id": "wAPfX3erFUqa",
        "colab": {
          "base_uri": "https://localhost:8080/"
        },
        "outputId": "10e8e93d-a6b1-44a6-ad55-ac56f605bd79"
      },
      "source": [
        "# Create array\n",
        "array_ = np.arange(1,101)\n",
        "\n",
        "# Reshape array to form 10 * 10 and re-write initial array\n",
        "array_ = array_.reshape(10,10)\n",
        "\n",
        "# Slice every 2nd rows and every 2nd element in it\n",
        "array_[::2, ::2]\n"
      ],
      "execution_count": null,
      "outputs": [
        {
          "output_type": "execute_result",
          "data": {
            "text/plain": [
              "array([[ 1,  3,  5,  7,  9],\n",
              "       [21, 23, 25, 27, 29],\n",
              "       [41, 43, 45, 47, 49],\n",
              "       [61, 63, 65, 67, 69],\n",
              "       [81, 83, 85, 87, 89]])"
            ]
          },
          "metadata": {
            "tags": []
          },
          "execution_count": 59
        }
      ]
    },
    {
      "cell_type": "markdown",
      "metadata": {
        "id": "SrI3heKeV7nP"
      },
      "source": [
        "## Задание 2\n",
        "\n",
        "Написать функцию, которая по заданной длине последовательности находит среднее арифметическое ее членов.\n",
        "\n",
        "Реализуйте задачу с и без помощи numpy, сравните время выполнения"
      ]
    },
    {
      "cell_type": "code",
      "metadata": {
        "id": "2-5-E2pCV_Ot",
        "colab": {
          "base_uri": "https://localhost:8080/"
        },
        "outputId": "06ea9dc6-c8bf-41a1-bae4-50fb38e06355"
      },
      "source": [
        "# решение с использованием numpy\n",
        "# для оценки времени исоплнения блока\n",
        "%%time\n",
        "# зададим длину нашей последовательности\n",
        "dlina_posl = 100_000_000\n",
        "\n",
        "# ваш код тут\n",
        "avg_numpy = np.arange(1,dlina_posl).sum() / dlina_posl\n",
        "print(f'Среднее арифметическое последовательности = {avg_numpy}')"
      ],
      "execution_count": null,
      "outputs": [
        {
          "output_type": "stream",
          "text": [
            "Среднее арифметическое последовательности = 49999999.5\n",
            "CPU times: user 239 ms, sys: 0 ns, total: 239 ms\n",
            "Wall time: 248 ms\n"
          ],
          "name": "stdout"
        }
      ]
    },
    {
      "cell_type": "code",
      "metadata": {
        "id": "9e3X5PEpWBjA",
        "colab": {
          "base_uri": "https://localhost:8080/"
        },
        "outputId": "ac91e678-7b7d-48dd-93ec-e7927d5f3be5"
      },
      "source": [
        "# решение без использования numpy\n",
        "# для оценки времени исоплнения блока\n",
        "%%time\n",
        "\n",
        "# ваш код тут\n",
        "avg_classic = sum(list(range(1,dlina_posl))) / dlina_posl\n",
        "print(f'Среднее арифметическое последовательности = {avg_classic}')"
      ],
      "execution_count": null,
      "outputs": [
        {
          "output_type": "stream",
          "text": [
            "Среднее арифметическое последовательности = 49999999.5\n",
            "CPU times: user 2.83 s, sys: 2.23 s, total: 5.06 s\n",
            "Wall time: 5.05 s\n"
          ],
          "name": "stdout"
        }
      ]
    },
    {
      "cell_type": "markdown",
      "metadata": {
        "id": "rN5yJLU4WF_6"
      },
      "source": [
        ""
      ]
    },
    {
      "cell_type": "markdown",
      "metadata": {
        "id": "aF_IhXzJFWzJ"
      },
      "source": [
        "## Задание 3 *(необязательно)\n",
        "\n",
        "Задан Series объект s, найти индекс первого элемента отсортированного s, где значения больше 5"
      ]
    },
    {
      "cell_type": "code",
      "metadata": {
        "id": "PzrBc2RRFYom",
        "colab": {
          "base_uri": "https://localhost:8080/"
        },
        "outputId": "4a44afe3-18fc-42b2-b3b4-4e8f021123fe"
      },
      "source": [
        "# задано изначально\n",
        "r = np.random.RandomState(1)\n",
        "s = pd.Series(r.uniform(0, 10, 100))\n",
        "s = s.sort_values()\n",
        "\n",
        "print(s[s>5].index[0])\n"
      ],
      "execution_count": null,
      "outputs": [
        {
          "output_type": "stream",
          "text": [
            "67\n"
          ],
          "name": "stdout"
        }
      ]
    },
    {
      "cell_type": "markdown",
      "metadata": {
        "id": "lK7mPJPRWcs2"
      },
      "source": [
        "## Задание 4\n",
        "\n",
        "Предположим, что мы наблюдаем за некоторым признаком нашего датасета, но в данных есть пропуски. Ваша задача: реализовать алгоритм заполнения пропущенных значений последним известным с помощью средств python и pandas. (подсказка: вам может помочь функция np.isnan(), которая возвращает True, если число - nan. Для реализации с пандас стоит посмотреть на метод .fillna).\n",
        "\n",
        "Изначальный код с инициализацией такого датасета предоставлен."
      ]
    },
    {
      "cell_type": "code",
      "metadata": {
        "id": "Eu5g1x-hWcA1",
        "colab": {
          "base_uri": "https://localhost:8080/",
          "height": 282
        },
        "outputId": "56c0af4f-8f4a-49cc-a664-ef8b705eae1c"
      },
      "source": [
        "# импортируем библиотеку для создания шума\n",
        "import random\n",
        "# библиотека для визуализации\n",
        "import matplotlib.pyplot as plt\n",
        "\n",
        "# создадим наши данные и добавим к каждой точке синусоиды случайный шум\n",
        "a = np.linspace(0, 25, 100)\n",
        "a = np.sin(a) + [random.gauss(0, 0.2) for i in range(len(a))]\n",
        "\n",
        "# создадим 10 случайных пропусков\n",
        "for i in range(10):\n",
        "    a[random.randint(0, len(a) - 1)] = None\n",
        "# создадим датафрейм\n",
        "df = pd.DataFrame({'target':a})\n",
        "\n",
        "# ваш код тут\n",
        "df = df.fillna(df.mean(axis=0))\n",
        "\n",
        "# отобразим\n",
        "plt.plot(df.target.values)"
      ],
      "execution_count": null,
      "outputs": [
        {
          "output_type": "execute_result",
          "data": {
            "text/plain": [
              "[<matplotlib.lines.Line2D at 0x7f10fdfcd9e8>]"
            ]
          },
          "metadata": {
            "tags": []
          },
          "execution_count": 68
        },
        {
          "output_type": "display_data",
          "data": {
            "image/png": "[encoded data removed]",
            "text/plain": [
              "<Figure size 432x288 with 1 Axes>"
            ]
          },
          "metadata": {
            "tags": [],
            "needs_background": "light"
          }
        }
      ]
    },
    {
      "cell_type": "code",
      "metadata": {
        "colab": {
          "base_uri": "https://localhost:8080/",
          "height": 265
        },
        "id": "376RwBIfaHNv",
        "outputId": "9d888694-270a-45af-efc1-925e1d03ac03"
      },
      "source": [
        "# Python\n",
        "for i in range(1,len(a)):\n",
        "    if np.isnan(a[i]):\n",
        "        a[i] = a[i-1]   \n",
        "plt.plot(a);"
      ],
      "execution_count": null,
      "outputs": [
        {
          "output_type": "display_data",
          "data": {
            "image/png": "[encoded data removed]",
            "text/plain": [
              "<Figure size 432x288 with 1 Axes>"
            ]
          },
          "metadata": {
            "tags": [],
            "needs_background": "light"
          }
        }
      ]
    },
    {
      "cell_type": "markdown",
      "metadata": {
        "id": "5gYj1TeyW9Aq"
      },
      "source": [
        "## Задание 5 *(необязательно)\n",
        "\n",
        "Имеется небольшой игрушечный датафрейм, в котором необходимо провести несколько типов фильтраций (ответы ищите в решениях) и отобразить результат:\n",
        "\n",
        "* всех, кто старше 40\n",
        "* всех, кто имеет доход выше среднего по датасету\n",
        "* всех, кто имеет доход выше среднего по датасету, но надежность ниже среднего по датасету\n",
        "\n",
        "создать новые столбцы:\n",
        "\n",
        "* важность клиента = доход * надежность\n",
        "* возможная долгосрочность клиента = важность клиента * (средний возраст по датасету - возраст клиента)\n",
        "\n",
        "`подсказка: двойные условия записываются так: (условие 1) & (условие 2)`\n",
        "\n",
        "\n",
        "** примечание: столбцы не имеют отношения к реальным формулам или моделям, они необходимы только для наглядности"
      ]
    },
    {
      "cell_type": "code",
      "metadata": {
        "id": "vHvedF6tXAWF",
        "colab": {
          "base_uri": "https://localhost:8080/",
          "height": 173
        },
        "outputId": "f53be8c6-df58-4228-cb96-ca7b918ba0d1"
      },
      "source": [
        "# создадим тестовый датасет\n",
        "df = pd.DataFrame({\n",
        "    'имя': ['Петя', 'Вася', 'Аня', 'Света'],\n",
        "    'возраст': [45, 26, 41 , 21],\n",
        "    'доход': [100000, 80000, 150000, 60000],\n",
        "    'надежность клиента (0..1)': [0.65, 0.74, 0.87, 0.68],\n",
        "    'пол': ['муж', 'муж', 'жен', 'жен']},\n",
        "    index=[0, 1, 2, 3])\n",
        "\n",
        "df\n",
        "\n"
      ],
      "execution_count": null,
      "outputs": [
        {
          "output_type": "execute_result",
          "data": {
            "text/html": [
              "<div>\n",
              "<style scoped>\n",
              "    .dataframe tbody tr th:only-of-type {\n",
              "        vertical-align: middle;\n",
              "    }\n",
              "\n",
              "    .dataframe tbody tr th {\n",
              "        vertical-align: top;\n",
              "    }\n",
              "\n",
              "    .dataframe thead th {\n",
              "        text-align: right;\n",
              "    }\n",
              "</style>\n",
              "<table border=\"1\" class=\"dataframe\">\n",
              "  <thead>\n",
              "    <tr style=\"text-align: right;\">\n",
              "      <th></th>\n",
              "      <th>имя</th>\n",
              "      <th>возраст</th>\n",
              "      <th>доход</th>\n",
              "      <th>надежность клиента (0..1)</th>\n",
              "      <th>пол</th>\n",
              "    </tr>\n",
              "  </thead>\n",
              "  <tbody>\n",
              "    <tr>\n",
              "      <th>0</th>\n",
              "      <td>Петя</td>\n",
              "      <td>45</td>\n",
              "      <td>100000</td>\n",
              "      <td>0.65</td>\n",
              "      <td>муж</td>\n",
              "    </tr>\n",
              "    <tr>\n",
              "      <th>1</th>\n",
              "      <td>Вася</td>\n",
              "      <td>26</td>\n",
              "      <td>80000</td>\n",
              "      <td>0.74</td>\n",
              "      <td>муж</td>\n",
              "    </tr>\n",
              "    <tr>\n",
              "      <th>2</th>\n",
              "      <td>Аня</td>\n",
              "      <td>41</td>\n",
              "      <td>150000</td>\n",
              "      <td>0.87</td>\n",
              "      <td>жен</td>\n",
              "    </tr>\n",
              "    <tr>\n",
              "      <th>3</th>\n",
              "      <td>Света</td>\n",
              "      <td>21</td>\n",
              "      <td>60000</td>\n",
              "      <td>0.68</td>\n",
              "      <td>жен</td>\n",
              "    </tr>\n",
              "  </tbody>\n",
              "</table>\n",
              "</div>"
            ],
            "text/plain": [
              "     имя  возраст   доход  надежность клиента (0..1)  пол\n",
              "0   Петя       45  100000                       0.65  муж\n",
              "1   Вася       26   80000                       0.74  муж\n",
              "2    Аня       41  150000                       0.87  жен\n",
              "3  Света       21   60000                       0.68  жен"
            ]
          },
          "metadata": {
            "tags": []
          },
          "execution_count": 74
        }
      ]
    },
    {
      "cell_type": "code",
      "metadata": {
        "colab": {
          "base_uri": "https://localhost:8080/",
          "height": 111
        },
        "id": "1K36XtYFPZv5",
        "outputId": "992861f5-65fb-4296-e4cf-6c237408420d"
      },
      "source": [
        "#всех, кто старше 40\n",
        "df[df['возраст']>40]"
      ],
      "execution_count": null,
      "outputs": [
        {
          "output_type": "execute_result",
          "data": {
            "text/html": [
              "<div>\n",
              "<style scoped>\n",
              "    .dataframe tbody tr th:only-of-type {\n",
              "        vertical-align: middle;\n",
              "    }\n",
              "\n",
              "    .dataframe tbody tr th {\n",
              "        vertical-align: top;\n",
              "    }\n",
              "\n",
              "    .dataframe thead th {\n",
              "        text-align: right;\n",
              "    }\n",
              "</style>\n",
              "<table border=\"1\" class=\"dataframe\">\n",
              "  <thead>\n",
              "    <tr style=\"text-align: right;\">\n",
              "      <th></th>\n",
              "      <th>имя</th>\n",
              "      <th>возраст</th>\n",
              "      <th>доход</th>\n",
              "      <th>надежность клиента (0..1)</th>\n",
              "      <th>пол</th>\n",
              "    </tr>\n",
              "  </thead>\n",
              "  <tbody>\n",
              "    <tr>\n",
              "      <th>0</th>\n",
              "      <td>Петя</td>\n",
              "      <td>45</td>\n",
              "      <td>100000</td>\n",
              "      <td>0.65</td>\n",
              "      <td>муж</td>\n",
              "    </tr>\n",
              "    <tr>\n",
              "      <th>2</th>\n",
              "      <td>Аня</td>\n",
              "      <td>41</td>\n",
              "      <td>150000</td>\n",
              "      <td>0.87</td>\n",
              "      <td>жен</td>\n",
              "    </tr>\n",
              "  </tbody>\n",
              "</table>\n",
              "</div>"
            ],
            "text/plain": [
              "    имя  возраст   доход  надежность клиента (0..1)  пол\n",
              "0  Петя       45  100000                       0.65  муж\n",
              "2   Аня       41  150000                       0.87  жен"
            ]
          },
          "metadata": {
            "tags": []
          },
          "execution_count": 75
        }
      ]
    },
    {
      "cell_type": "code",
      "metadata": {
        "colab": {
          "base_uri": "https://localhost:8080/",
          "height": 111
        },
        "id": "X1E0Ya0dRoy-",
        "outputId": "0756c0c2-4138-4a23-ceff-0bbb4c7e0757"
      },
      "source": [
        "#всех, кто имеет доход выше среднего по датасету\n",
        "df[df['доход'] > df['доход'].mean()]"
      ],
      "execution_count": null,
      "outputs": [
        {
          "output_type": "execute_result",
          "data": {
            "text/html": [
              "<div>\n",
              "<style scoped>\n",
              "    .dataframe tbody tr th:only-of-type {\n",
              "        vertical-align: middle;\n",
              "    }\n",
              "\n",
              "    .dataframe tbody tr th {\n",
              "        vertical-align: top;\n",
              "    }\n",
              "\n",
              "    .dataframe thead th {\n",
              "        text-align: right;\n",
              "    }\n",
              "</style>\n",
              "<table border=\"1\" class=\"dataframe\">\n",
              "  <thead>\n",
              "    <tr style=\"text-align: right;\">\n",
              "      <th></th>\n",
              "      <th>имя</th>\n",
              "      <th>возраст</th>\n",
              "      <th>доход</th>\n",
              "      <th>надежность клиента (0..1)</th>\n",
              "      <th>пол</th>\n",
              "    </tr>\n",
              "  </thead>\n",
              "  <tbody>\n",
              "    <tr>\n",
              "      <th>0</th>\n",
              "      <td>Петя</td>\n",
              "      <td>45</td>\n",
              "      <td>100000</td>\n",
              "      <td>0.65</td>\n",
              "      <td>муж</td>\n",
              "    </tr>\n",
              "    <tr>\n",
              "      <th>2</th>\n",
              "      <td>Аня</td>\n",
              "      <td>41</td>\n",
              "      <td>150000</td>\n",
              "      <td>0.87</td>\n",
              "      <td>жен</td>\n",
              "    </tr>\n",
              "  </tbody>\n",
              "</table>\n",
              "</div>"
            ],
            "text/plain": [
              "    имя  возраст   доход  надежность клиента (0..1)  пол\n",
              "0  Петя       45  100000                       0.65  муж\n",
              "2   Аня       41  150000                       0.87  жен"
            ]
          },
          "metadata": {
            "tags": []
          },
          "execution_count": 76
        }
      ]
    },
    {
      "cell_type": "code",
      "metadata": {
        "colab": {
          "base_uri": "https://localhost:8080/",
          "height": 80
        },
        "id": "UN0P4k6SRwOk",
        "outputId": "e33e12f9-3ccc-4253-cffa-402af10eac58"
      },
      "source": [
        "#всех, кто имеет доход выше среднего по датасету, \n",
        "#но надежность ниже среднего по датасету\n",
        "\n",
        "df[(df['доход'] > df['доход'].mean()) & \\\n",
        "   (df['надежность клиента (0..1)'] < df['надежность клиента (0..1)'].mean())]"
      ],
      "execution_count": null,
      "outputs": [
        {
          "output_type": "execute_result",
          "data": {
            "text/html": [
              "<div>\n",
              "<style scoped>\n",
              "    .dataframe tbody tr th:only-of-type {\n",
              "        vertical-align: middle;\n",
              "    }\n",
              "\n",
              "    .dataframe tbody tr th {\n",
              "        vertical-align: top;\n",
              "    }\n",
              "\n",
              "    .dataframe thead th {\n",
              "        text-align: right;\n",
              "    }\n",
              "</style>\n",
              "<table border=\"1\" class=\"dataframe\">\n",
              "  <thead>\n",
              "    <tr style=\"text-align: right;\">\n",
              "      <th></th>\n",
              "      <th>имя</th>\n",
              "      <th>возраст</th>\n",
              "      <th>доход</th>\n",
              "      <th>надежность клиента (0..1)</th>\n",
              "      <th>пол</th>\n",
              "    </tr>\n",
              "  </thead>\n",
              "  <tbody>\n",
              "    <tr>\n",
              "      <th>0</th>\n",
              "      <td>Петя</td>\n",
              "      <td>45</td>\n",
              "      <td>100000</td>\n",
              "      <td>0.65</td>\n",
              "      <td>муж</td>\n",
              "    </tr>\n",
              "  </tbody>\n",
              "</table>\n",
              "</div>"
            ],
            "text/plain": [
              "    имя  возраст   доход  надежность клиента (0..1)  пол\n",
              "0  Петя       45  100000                       0.65  муж"
            ]
          },
          "metadata": {
            "tags": []
          },
          "execution_count": 85
        }
      ]
    },
    {
      "cell_type": "code",
      "metadata": {
        "colab": {
          "base_uri": "https://localhost:8080/",
          "height": 173
        },
        "id": "yLaxQ9gtR-y9",
        "outputId": "7d6f6da0-31bb-4a59-94ab-6fe3e57a4339"
      },
      "source": [
        "# Создать новые столбцы: 1) важность клиента = доход * надежность\n",
        "df['важность'] = df['доход'] * df['надежность клиента (0..1)']\n",
        "df"
      ],
      "execution_count": null,
      "outputs": [
        {
          "output_type": "execute_result",
          "data": {
            "text/html": [
              "<div>\n",
              "<style scoped>\n",
              "    .dataframe tbody tr th:only-of-type {\n",
              "        vertical-align: middle;\n",
              "    }\n",
              "\n",
              "    .dataframe tbody tr th {\n",
              "        vertical-align: top;\n",
              "    }\n",
              "\n",
              "    .dataframe thead th {\n",
              "        text-align: right;\n",
              "    }\n",
              "</style>\n",
              "<table border=\"1\" class=\"dataframe\">\n",
              "  <thead>\n",
              "    <tr style=\"text-align: right;\">\n",
              "      <th></th>\n",
              "      <th>имя</th>\n",
              "      <th>возраст</th>\n",
              "      <th>доход</th>\n",
              "      <th>надежность клиента (0..1)</th>\n",
              "      <th>пол</th>\n",
              "      <th>важность</th>\n",
              "    </tr>\n",
              "  </thead>\n",
              "  <tbody>\n",
              "    <tr>\n",
              "      <th>0</th>\n",
              "      <td>Петя</td>\n",
              "      <td>45</td>\n",
              "      <td>100000</td>\n",
              "      <td>0.65</td>\n",
              "      <td>муж</td>\n",
              "      <td>65000.0</td>\n",
              "    </tr>\n",
              "    <tr>\n",
              "      <th>1</th>\n",
              "      <td>Вася</td>\n",
              "      <td>26</td>\n",
              "      <td>80000</td>\n",
              "      <td>0.74</td>\n",
              "      <td>муж</td>\n",
              "      <td>59200.0</td>\n",
              "    </tr>\n",
              "    <tr>\n",
              "      <th>2</th>\n",
              "      <td>Аня</td>\n",
              "      <td>41</td>\n",
              "      <td>150000</td>\n",
              "      <td>0.87</td>\n",
              "      <td>жен</td>\n",
              "      <td>130500.0</td>\n",
              "    </tr>\n",
              "    <tr>\n",
              "      <th>3</th>\n",
              "      <td>Света</td>\n",
              "      <td>21</td>\n",
              "      <td>60000</td>\n",
              "      <td>0.68</td>\n",
              "      <td>жен</td>\n",
              "      <td>40800.0</td>\n",
              "    </tr>\n",
              "  </tbody>\n",
              "</table>\n",
              "</div>"
            ],
            "text/plain": [
              "     имя  возраст   доход  надежность клиента (0..1)  пол  важность\n",
              "0   Петя       45  100000                       0.65  муж   65000.0\n",
              "1   Вася       26   80000                       0.74  муж   59200.0\n",
              "2    Аня       41  150000                       0.87  жен  130500.0\n",
              "3  Света       21   60000                       0.68  жен   40800.0"
            ]
          },
          "metadata": {
            "tags": []
          },
          "execution_count": 87
        }
      ]
    },
    {
      "cell_type": "code",
      "metadata": {
        "colab": {
          "base_uri": "https://localhost:8080/",
          "height": 173
        },
        "id": "BFEbtaXlSrrD",
        "outputId": "12e2d5e0-776f-4cf7-cb1a-c63db7b1c7a4"
      },
      "source": [
        "# 2) возможная долгосрочность клиента = важность клиента * (средний возраст по датасету - возраст клиента)\n",
        "df['долгосрочность'] = df['важность'] * (df['возраст'].mean() - df['возраст'])\n",
        "df"
      ],
      "execution_count": null,
      "outputs": [
        {
          "output_type": "execute_result",
          "data": {
            "text/html": [
              "<div>\n",
              "<style scoped>\n",
              "    .dataframe tbody tr th:only-of-type {\n",
              "        vertical-align: middle;\n",
              "    }\n",
              "\n",
              "    .dataframe tbody tr th {\n",
              "        vertical-align: top;\n",
              "    }\n",
              "\n",
              "    .dataframe thead th {\n",
              "        text-align: right;\n",
              "    }\n",
              "</style>\n",
              "<table border=\"1\" class=\"dataframe\">\n",
              "  <thead>\n",
              "    <tr style=\"text-align: right;\">\n",
              "      <th></th>\n",
              "      <th>имя</th>\n",
              "      <th>возраст</th>\n",
              "      <th>доход</th>\n",
              "      <th>надежность клиента (0..1)</th>\n",
              "      <th>пол</th>\n",
              "      <th>важность</th>\n",
              "      <th>долгосрочность</th>\n",
              "    </tr>\n",
              "  </thead>\n",
              "  <tbody>\n",
              "    <tr>\n",
              "      <th>0</th>\n",
              "      <td>Петя</td>\n",
              "      <td>45</td>\n",
              "      <td>100000</td>\n",
              "      <td>0.65</td>\n",
              "      <td>муж</td>\n",
              "      <td>65000.0</td>\n",
              "      <td>-763750.0</td>\n",
              "    </tr>\n",
              "    <tr>\n",
              "      <th>1</th>\n",
              "      <td>Вася</td>\n",
              "      <td>26</td>\n",
              "      <td>80000</td>\n",
              "      <td>0.74</td>\n",
              "      <td>муж</td>\n",
              "      <td>59200.0</td>\n",
              "      <td>429200.0</td>\n",
              "    </tr>\n",
              "    <tr>\n",
              "      <th>2</th>\n",
              "      <td>Аня</td>\n",
              "      <td>41</td>\n",
              "      <td>150000</td>\n",
              "      <td>0.87</td>\n",
              "      <td>жен</td>\n",
              "      <td>130500.0</td>\n",
              "      <td>-1011375.0</td>\n",
              "    </tr>\n",
              "    <tr>\n",
              "      <th>3</th>\n",
              "      <td>Света</td>\n",
              "      <td>21</td>\n",
              "      <td>60000</td>\n",
              "      <td>0.68</td>\n",
              "      <td>жен</td>\n",
              "      <td>40800.0</td>\n",
              "      <td>499800.0</td>\n",
              "    </tr>\n",
              "  </tbody>\n",
              "</table>\n",
              "</div>"
            ],
            "text/plain": [
              "     имя  возраст   доход  ...  пол  важность  долгосрочность\n",
              "0   Петя       45  100000  ...  муж   65000.0       -763750.0\n",
              "1   Вася       26   80000  ...  муж   59200.0        429200.0\n",
              "2    Аня       41  150000  ...  жен  130500.0      -1011375.0\n",
              "3  Света       21   60000  ...  жен   40800.0        499800.0\n",
              "\n",
              "[4 rows x 7 columns]"
            ]
          },
          "metadata": {
            "tags": []
          },
          "execution_count": 90
        }
      ]
    },
    {
      "cell_type": "code",
      "metadata": {
        "id": "D2rJkEUrS6Xo"
      },
      "source": [
        ""
      ],
      "execution_count": null,
      "outputs": []
    }
  ]
}