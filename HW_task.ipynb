{
  "nbformat": 4,
  "nbformat_minor": 0,
  "metadata": {
    "colab": {
      "name": "HW_task",
      "provenance": [],
      "authorship_tag": "ABX9TyOYmp1xa4m95ZqvDeKLcvaB",
      "include_colab_link": true
    },
    "kernelspec": {
      "name": "python3",
      "display_name": "Python 3"
    }
  },
  "cells": [
    {
      "cell_type": "markdown",
      "metadata": {
        "id": "view-in-github",
        "colab_type": "text"
      },
      "source": [
        "<a href=\"https://colab.research.google.com/github/kulivixix/Edu/blob/main/HW_task.ipynb\" target=\"_parent\"><img src=\"https://colab.research.google.com/assets/colab-badge.svg\" alt=\"Open In Colab\"/></a>"
      ]
    },
    {
      "cell_type": "markdown",
      "metadata": {
        "id": "kyX0nl9Q6bB_"
      },
      "source": [
        "### **Добавление константного столбца с цислом строк в таблице (без оконных функций)**\r\n",
        "Инфо: Подумайте, как добавить к произвольной таблице с известным первичным ключом константный столбец, содержащий число строк в ней"
      ]
    },
    {
      "cell_type": "code",
      "metadata": {
        "id": "eie2QJUn6eoE"
      },
      "source": [
        "# Допустим произвольная таблица\r\n",
        "CREATE TABLE Customers (\r\n",
        "    ID int NOT NULL,\r\n",
        "    LastName varchar(255) NOT NULL,\r\n",
        "    FirstName varchar(255),\r\n",
        "    Age int,\r\n",
        "    PRIMARY KEY (ID)\r\n",
        ");"
      ],
      "execution_count": null,
      "outputs": []
    },
    {
      "cell_type": "code",
      "metadata": {
        "id": "xTLpYC7S7wrx"
      },
      "source": [
        "#Создадим константный столбец cnt_ как подзапрос от количества столбцов в таблице\r\n",
        "\r\n",
        "select\r\n",
        "\r\n",
        "  (select count(*) from Customers) as cnt_,\r\n",
        "  id,\r\n",
        "  LastName,\r\n",
        "  FirstName,\r\n",
        "  Age\r\n",
        "from Customers\r\n",
        "\r\n",
        "#Такой подзапрос будет работать как замена оконной функции count(*) over()\r\n"
      ],
      "execution_count": null,
      "outputs": []
    }
  ]
}